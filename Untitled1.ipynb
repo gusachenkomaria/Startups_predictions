{
 "cells": [
  {
   "cell_type": "markdown",
   "id": "0ca01ff9",
   "metadata": {},
   "source": [
    "Выполнила: Мария Гусаченко, telegram: @mary_gus94\n",
    "\n",
    "\n",
    "<br>Заказчик предоставил данные о стартапах, функционировавших в период с 1970 по 2018 годы.\n",
    "<br>Необходимо найти модель, которая позволит предсказать, какие из них закроются.\n",
    "\n",
    "\n",
    "<br><b>Цель исследования</b>\n",
    "\n",
    "Разработать модель машинного обучения для предсказания продолжения деятельности стартапа.\n",
    "\n",
    "<br><b>Описание данных</b>\n",
    "\n",
    "<br>Заказчик предоставил данные в двух файлах: тренировочный набор (около 53 тыс. записей) и тестовый набор (около 13 тыс. записей). Тренировочный набор содержит целевой признак status, указывающий на то, закрылся стартап или продолжает действовать. Временной период - '1970-01-01' по '2018-01-01'. Дата формирования выгрузки - '2018-01-01'.\n",
    "\n",
    "<br>name - Название стартапа\n",
    "<br>category_list - Список категорий, к которым относится стартап\n",
    "<br>funding_total_usd - Общая сумма финансирования в USD\n",
    "<br>status - Статус стартапа (закрыт или действующий)\n",
    "<br>country_code - Код страны\n",
    "<br>state_code - Код штата\n",
    "<br>region - Регион\n",
    "<br>city - Город\n",
    "<br>funding_rounds - Количество раундов финансирования\n",
    "<br>founded_at - Дата основания\n",
    "<br>first_funding_at - Дата первого раунда финансирования\n",
    "<br>last_funding_at - Дата последнего раунда финансирования\n",
    "<br>closed_at - Дата закрытия стартапа (если применимо)\n",
    "<br>lifetime - Время существования стартапа в днях\n",
    "\n",
    "<br><b>Ход выполнения</b>\n",
    "\n",
    "<br>1. Загрузка даных\n",
    "<br>2. Предобработка данных\n",
    "<br>3. Исследовательский анализ данных\n",
    "<br>4. Корреляционный анализ\n",
    "<br>5. Обучение модели и предсказание статуса стартапа\n",
    "<br>6. Анализ важности признаков\n",
    "<br>7. Общий вывод и рекомендации"
   ]
  },
  {
   "cell_type": "markdown",
   "id": "e8fca951",
   "metadata": {},
   "source": [
    "### Загрузка данных"
   ]
  },
  {
   "cell_type": "markdown",
   "id": "69296333",
   "metadata": {},
   "source": [
    "Загрузим необходимые для работы библиотеки и напишем функции, которыми будем пользоваться в работе"
   ]
  },
  {
   "cell_type": "code",
   "execution_count": 1,
   "id": "0df25e86",
   "metadata": {},
   "outputs": [],
   "source": [
    "!pip install -U scikit-learn -q\n",
    "!pip install shap -q\n",
    "!pip install phik -q\n",
    "!pip install pycountry -q\n",
    "!pip install pycountry_convert -q\n",
    "!pip install catboost -q"
   ]
  },
  {
   "cell_type": "code",
   "execution_count": 2,
   "id": "9cb32cb6",
   "metadata": {},
   "outputs": [],
   "source": [
    "import pandas as pd\n",
    "import numpy as np\n",
    "import matplotlib.pyplot as plt\n",
    "import seaborn as sns\n",
    "import phik\n",
    "import shap\n",
    "import pycountry_convert as pc\n",
    "import pycountry\n",
    "import optuna\n",
    "import catboost\n",
    "\n",
    "from catboost import CatBoostClassifier\n",
    "\n",
    "from scipy import stats\n",
    "from sklearn.model_selection import train_test_split\n",
    "from sklearn.linear_model import LogisticRegression, LinearRegression\n",
    "from sklearn.tree import DecisionTreeClassifier, DecisionTreeRegressor\n",
    "from sklearn.metrics import (\n",
    "    f1_score, ConfusionMatrixDisplay\n",
    ")\n",
    "\n",
    "from sklearn.inspection import permutation_importance\n",
    "\n",
    "from sklearn.feature_selection import SelectKBest, mutual_info_classif\n",
    "\n",
    "from phik import phik_matrix\n",
    "from phik.report import plot_correlation_matrix\n",
    "\n",
    "from sklearn.dummy import DummyClassifier\n",
    "from sklearn.model_selection import KFold, cross_val_score, GridSearchCV, RandomizedSearchCV\n",
    "from sklearn.preprocessing import (\n",
    "    StandardScaler, MinMaxScaler, OneHotEncoder,\n",
    "    OrdinalEncoder, LabelEncoder, PolynomialFeatures\n",
    ")\n",
    "\n",
    "from sklearn.pipeline import Pipeline\n",
    "from imblearn.over_sampling import SMOTE\n",
    "from imblearn.pipeline import Pipeline as ImbPipeline\n",
    "from sklearn.compose import ColumnTransformer\n",
    "from sklearn.impute import SimpleImputer\n",
    "from sklearn.svm import SVC, SVR\n",
    "from sklearn.neighbors import KNeighborsClassifier\n",
    "\n",
    "from optuna import distributions\n",
    "from optuna.integration import OptunaSearchCV\n",
    "from optuna import visualization \n",
    "\n",
    "from sklearn.ensemble import RandomForestClassifier\n",
    "\n",
    "RANDOM_STATE = 42\n",
    "TEST_SIZE = 0.25\n",
    "\n",
    "pd.set_option('display.max_columns', None)"
   ]
  },
  {
   "cell_type": "code",
   "execution_count": 3,
   "id": "ff91af41",
   "metadata": {},
   "outputs": [],
   "source": [
    "#функция вывода основной информации о таблице\n",
    "def information(data):\n",
    "    print(f'Размер фрейма {data.shape} \\n')\n",
    "    print('Первые пять строк таблицы')\n",
    "    display(data.head())\n",
    "    print('\\n Основная информация о файле')\n",
    "    print(data.info())"
   ]
  },
  {
   "cell_type": "code",
   "execution_count": 4,
   "id": "a797c27f",
   "metadata": {},
   "outputs": [],
   "source": [
    "#Функция визуализации количественных данных\n",
    "def eda_quantity(data, bins_num):\n",
    "    quantity_columns = data.select_dtypes(include = ['int64', 'float64']).columns.to_list()\n",
    "    num_plots = len(quantity_columns)\n",
    "    \n",
    "    plt.figure(figsize=(10, 20 * num_plots))\n",
    "    \n",
    "    for c in quantity_columns:        \n",
    "        print(f'Статистический анализ столбца: {c}')\n",
    "        print(data[c].describe().round(2))\n",
    "        \n",
    "        median_value = data[c].median()\n",
    "        mean_value = data[c].mean()\n",
    "    \n",
    "        f, (ax_hist, ax_box) = plt.subplots(1, 2)\n",
    "\n",
    "        sns.histplot(data=data, x=c, bins=bins_num, ax=ax_hist)\n",
    "        ax_hist.set(xlabel=c, ylabel='Количество', title=f'{c}')\n",
    "        ax_hist.axvline(median_value, color='r', linestyle='--', label=f'Median: {median_value:.2f}')\n",
    "        ax_hist.axvline(mean_value, color='g', linestyle='-', label=f'Mean: {mean_value:.2f}')\n",
    "        ax_hist.legend()\n",
    "\n",
    "\n",
    "        sns.boxplot(y=data[c], ax=ax_box)\n",
    "        ax_box.set(ylabel=c, title=f'{c}')\n",
    "\n",
    "        \n",
    "        plt.subplots_adjust(hspace=0.3, wspace=0.3)\n",
    "        plt.tight_layout()\n",
    "        plt.show();"
   ]
  },
  {
   "cell_type": "code",
   "execution_count": 5,
   "id": "2c9ce8b9",
   "metadata": {},
   "outputs": [],
   "source": [
    "#Функция визуализации категориальных переменных\n",
    "def eda_quality(data):\n",
    "    quality_columns = data.select_dtypes(include = 'object').columns.to_list()\n",
    "    num_plots = len(quality_columns)\n",
    "    plt.figure(figsize=(10, 5))\n",
    "    \n",
    "    for c in quality_columns:\n",
    "        data_temp = data.groupby([c])[c].agg(['count']).sort_values(by='count')\n",
    "        data_temp['percent'] = data_temp['count'] / data_temp['count'].sum()\n",
    "        data_temp.columns = {'Количество':'count', 'Доля':'percent'}\n",
    "        print(f'Значения столбца {c} \\n {data_temp} \\n')\n",
    "        print(f'Статистический анализ столбца {c} \\n', data_temp.describe())\n",
    "    \n",
    "        sns.barplot(x=data_temp['Количество'].values, y=data_temp.index)\n",
    "        plt.gca().set(xlabel='количество', ylabel=f'${c}$')\n",
    "        plt.title(f'{c}')\n",
    "        plt.show()"
   ]
  },
  {
   "cell_type": "code",
   "execution_count": 6,
   "id": "e1b40013",
   "metadata": {},
   "outputs": [],
   "source": [
    "#функция построения матрицы корреляции\n",
    "def corr_matrix(data):\n",
    "    interval_cols = data.select_dtypes(include=['number']).columns\n",
    "    phik_overview = phik_matrix(data.sample(1000), interval_cols=interval_cols) \n",
    "    plot_correlation_matrix(\n",
    "        phik_overview.values,\n",
    "        x_labels=phik_overview.columns,\n",
    "        y_labels=phik_overview.index,\n",
    "        vmin=0, vmax=1, color_map='Greens',\n",
    "        title=r'correlation $\\phi_K$',\n",
    "        fontsize_factor=0.8,\n",
    "        figsize=(15, 10)\n",
    "    )"
   ]
  },
  {
   "cell_type": "code",
   "execution_count": 7,
   "id": "5d29073d",
   "metadata": {},
   "outputs": [],
   "source": [
    "#функция получения наименования континента\n",
    "def change_category_name(category_name):\n",
    "    for new_name in category_name.split('|'):\n",
    "        if not (new_name.islower()):\n",
    "            return ''.join(new_name)"
   ]
  },
  {
   "cell_type": "code",
   "execution_count": 8,
   "id": "2eb99640",
   "metadata": {},
   "outputs": [],
   "source": [
    "# функция для преобразования кода страны в континент\n",
    "def country_to_continent(country_code):     \n",
    "    try:\n",
    "        continent_code = pc.country_alpha2_to_continent_code(country_code)\n",
    "        continent_name = pc.convert_continent_code_to_continent_name(continent_code)\n",
    "        return continent_name\n",
    "    except KeyError:\n",
    "        return 'Unknown'"
   ]
  },
  {
   "cell_type": "code",
   "execution_count": 9,
   "id": "78119981",
   "metadata": {},
   "outputs": [],
   "source": [
    "# функция стандартизирования кода страны\n",
    "def country_code_new(alpha3):\n",
    "    try:\n",
    "        return pycountry.countries.get(alpha_3=alpha3).alpha_2\n",
    "    except Exception: \n",
    "        return 'Unknown'"
   ]
  },
  {
   "cell_type": "code",
   "execution_count": 10,
   "id": "9ca433a8",
   "metadata": {},
   "outputs": [],
   "source": [
    "def eda_top_categories(data, top_n):    \n",
    "    columns = data.columns.to_list()\n",
    "    for c in columns:\n",
    "        top_categories = data[c].value_counts().head(top_n)\n",
    "        plt.figure(figsize=(10, 5))\n",
    "        sns.barplot(x=top_categories.values, y=top_categories.index)\n",
    "        plt.xlabel('Количество стартапов')\n",
    "        plt.ylabel('Категория')\n",
    "        plt.title(c)\n",
    "        plt.show()"
   ]
  },
  {
   "cell_type": "code",
   "execution_count": 11,
   "id": "ced26ef9",
   "metadata": {},
   "outputs": [],
   "source": [
    "#функция распределения стартапов го годам и по статусу\n",
    "def status_by_year(data, year, status):\n",
    "        \n",
    "        year_status_counts = data.groupby([year, status]).size().unstack(fill_value=0)\n",
    "        \n",
    "        plt.figure(figsize=(10, 5))\n",
    "        sns.lineplot(data=year_status_counts, linewidth=2.5)\n",
    "        plt.xlabel('Год основания')\n",
    "        plt.ylabel('Количество стартапов')\n",
    "        plt.title('Распределение статусов стартапов по годам')\n",
    "        plt.legend(title=f'{status}')\n",
    "        plt.grid(True)\n",
    "        plt.tight_layout()\n",
    "        plt.show()"
   ]
  },
  {
   "cell_type": "code",
   "execution_count": 12,
   "id": "9847cbb9",
   "metadata": {},
   "outputs": [],
   "source": [
    "#фуекция категоризации жизни стартапа\n",
    "def category_lifetime(lifetime_years):\n",
    "    if lifetime_years <= 1:\n",
    "        return 'менее 1 года'\n",
    "    elif lifetime_years <= 3:\n",
    "        return '1-3 года'\n",
    "    elif lifetime_years <= 5:\n",
    "        return '3-5 лет'\n",
    "    elif lifetime_years <= 7:\n",
    "        return '5-7 лет'\n",
    "    elif lifetime_years <= 10:\n",
    "        return '7-10 лет'\n",
    "    elif lifetime_years <= 20:\n",
    "        return '10-20 лет'\n",
    "    else:\n",
    "        return 'более 20 лет'"
   ]
  },
  {
   "cell_type": "code",
   "execution_count": 13,
   "id": "334b1de6",
   "metadata": {},
   "outputs": [],
   "source": [
    "# Визуализация# Функция для получения имен признаков из ColumnTransformer\n",
    "def get_feature_names(transformer, input_features=None):\n",
    "\n",
    "    output_features = []\n",
    "\n",
    "    for name, pipe, features in transformer.transformers_:\n",
    "        if name == 'remainder':\n",
    "            output_features.extend(input_features[features])\n",
    "        else:\n",
    "            if hasattr(pipe, 'get_feature_names_out'):\n",
    "                feature_names = pipe.get_feature_names_out(features)\n",
    "            elif hasattr(pipe, 'get_feature_names'):\n",
    "                feature_names = pipe.get_feature_names(features)\n",
    "            else:\n",
    "                feature_names = features  \n",
    "            output_features.extend(feature_names)\n",
    "    \n",
    "    return output_features"
   ]
  },
  {
   "cell_type": "markdown",
   "id": "eaa4c8ca",
   "metadata": {},
   "source": [
    "Загрузим данные в датасеты"
   ]
  },
  {
   "cell_type": "code",
   "execution_count": 14,
   "id": "640aa89b",
   "metadata": {},
   "outputs": [],
   "source": [
    "path1 = \"C:/Users/User/Desktop/kaggle/kaggle_startups_train_28062024.csv\"\n",
    "path2 = \"C:/Users/User/Desktop/kaggle/kaggle_startups_test_28062024.csv\"\n",
    "\n",
    "df_train = pd.read_csv(path1)\n",
    "df_test = pd.read_csv(path2)"
   ]
  },
  {
   "cell_type": "code",
   "execution_count": 15,
   "id": "e4ec8006",
   "metadata": {
    "scrolled": true
   },
   "outputs": [
    {
     "name": "stdout",
     "output_type": "stream",
     "text": [
      "Размер фрейма (52516, 13) \n",
      "\n",
      "Первые пять строк таблицы\n"
     ]
    },
    {
     "data": {
      "text/html": [
       "<div>\n",
       "<style scoped>\n",
       "    .dataframe tbody tr th:only-of-type {\n",
       "        vertical-align: middle;\n",
       "    }\n",
       "\n",
       "    .dataframe tbody tr th {\n",
       "        vertical-align: top;\n",
       "    }\n",
       "\n",
       "    .dataframe thead th {\n",
       "        text-align: right;\n",
       "    }\n",
       "</style>\n",
       "<table border=\"1\" class=\"dataframe\">\n",
       "  <thead>\n",
       "    <tr style=\"text-align: right;\">\n",
       "      <th></th>\n",
       "      <th>name</th>\n",
       "      <th>category_list</th>\n",
       "      <th>funding_total_usd</th>\n",
       "      <th>status</th>\n",
       "      <th>country_code</th>\n",
       "      <th>state_code</th>\n",
       "      <th>region</th>\n",
       "      <th>city</th>\n",
       "      <th>funding_rounds</th>\n",
       "      <th>founded_at</th>\n",
       "      <th>first_funding_at</th>\n",
       "      <th>last_funding_at</th>\n",
       "      <th>closed_at</th>\n",
       "    </tr>\n",
       "  </thead>\n",
       "  <tbody>\n",
       "    <tr>\n",
       "      <th>0</th>\n",
       "      <td>Lunchgate</td>\n",
       "      <td>Online Reservations|Restaurants</td>\n",
       "      <td>828626.0</td>\n",
       "      <td>operating</td>\n",
       "      <td>CHE</td>\n",
       "      <td>25</td>\n",
       "      <td>Zurich</td>\n",
       "      <td>Zürich</td>\n",
       "      <td>2</td>\n",
       "      <td>2009-10-17</td>\n",
       "      <td>2011-05-01</td>\n",
       "      <td>2014-12-01</td>\n",
       "      <td>NaN</td>\n",
       "    </tr>\n",
       "    <tr>\n",
       "      <th>1</th>\n",
       "      <td>EarLens</td>\n",
       "      <td>Manufacturing|Medical|Medical Devices</td>\n",
       "      <td>42935019.0</td>\n",
       "      <td>operating</td>\n",
       "      <td>USA</td>\n",
       "      <td>CA</td>\n",
       "      <td>SF Bay Area</td>\n",
       "      <td>Redwood City</td>\n",
       "      <td>4</td>\n",
       "      <td>2005-01-01</td>\n",
       "      <td>2010-05-04</td>\n",
       "      <td>2014-02-25</td>\n",
       "      <td>NaN</td>\n",
       "    </tr>\n",
       "    <tr>\n",
       "      <th>2</th>\n",
       "      <td>Reviva Pharmaceuticals</td>\n",
       "      <td>Biotechnology</td>\n",
       "      <td>35456381.0</td>\n",
       "      <td>operating</td>\n",
       "      <td>USA</td>\n",
       "      <td>CA</td>\n",
       "      <td>SF Bay Area</td>\n",
       "      <td>San Jose</td>\n",
       "      <td>3</td>\n",
       "      <td>2006-01-01</td>\n",
       "      <td>2012-08-20</td>\n",
       "      <td>2014-07-02</td>\n",
       "      <td>NaN</td>\n",
       "    </tr>\n",
       "    <tr>\n",
       "      <th>3</th>\n",
       "      <td>Sancilio and Company</td>\n",
       "      <td>Health Care</td>\n",
       "      <td>22250000.0</td>\n",
       "      <td>operating</td>\n",
       "      <td>NaN</td>\n",
       "      <td>NaN</td>\n",
       "      <td>NaN</td>\n",
       "      <td>NaN</td>\n",
       "      <td>3</td>\n",
       "      <td>2004-01-01</td>\n",
       "      <td>2011-09-01</td>\n",
       "      <td>2014-07-18</td>\n",
       "      <td>NaN</td>\n",
       "    </tr>\n",
       "    <tr>\n",
       "      <th>4</th>\n",
       "      <td>WireTough Cylinders</td>\n",
       "      <td>Manufacturing</td>\n",
       "      <td>NaN</td>\n",
       "      <td>operating</td>\n",
       "      <td>USA</td>\n",
       "      <td>VA</td>\n",
       "      <td>VA - Other</td>\n",
       "      <td>Bristol</td>\n",
       "      <td>1</td>\n",
       "      <td>2010-05-12</td>\n",
       "      <td>2012-02-01</td>\n",
       "      <td>2012-02-01</td>\n",
       "      <td>NaN</td>\n",
       "    </tr>\n",
       "  </tbody>\n",
       "</table>\n",
       "</div>"
      ],
      "text/plain": [
       "                     name                          category_list  \\\n",
       "0               Lunchgate        Online Reservations|Restaurants   \n",
       "1                 EarLens  Manufacturing|Medical|Medical Devices   \n",
       "2  Reviva Pharmaceuticals                          Biotechnology   \n",
       "3    Sancilio and Company                            Health Care   \n",
       "4     WireTough Cylinders                          Manufacturing   \n",
       "\n",
       "   funding_total_usd     status country_code state_code       region  \\\n",
       "0           828626.0  operating          CHE         25       Zurich   \n",
       "1         42935019.0  operating          USA         CA  SF Bay Area   \n",
       "2         35456381.0  operating          USA         CA  SF Bay Area   \n",
       "3         22250000.0  operating          NaN        NaN          NaN   \n",
       "4                NaN  operating          USA         VA   VA - Other   \n",
       "\n",
       "           city  funding_rounds  founded_at first_funding_at last_funding_at  \\\n",
       "0        Zürich               2  2009-10-17       2011-05-01      2014-12-01   \n",
       "1  Redwood City               4  2005-01-01       2010-05-04      2014-02-25   \n",
       "2      San Jose               3  2006-01-01       2012-08-20      2014-07-02   \n",
       "3           NaN               3  2004-01-01       2011-09-01      2014-07-18   \n",
       "4       Bristol               1  2010-05-12       2012-02-01      2012-02-01   \n",
       "\n",
       "  closed_at  \n",
       "0       NaN  \n",
       "1       NaN  \n",
       "2       NaN  \n",
       "3       NaN  \n",
       "4       NaN  "
      ]
     },
     "metadata": {},
     "output_type": "display_data"
    },
    {
     "name": "stdout",
     "output_type": "stream",
     "text": [
      "\n",
      " Основная информация о файле\n",
      "<class 'pandas.core.frame.DataFrame'>\n",
      "RangeIndex: 52516 entries, 0 to 52515\n",
      "Data columns (total 13 columns):\n",
      " #   Column             Non-Null Count  Dtype  \n",
      "---  ------             --------------  -----  \n",
      " 0   name               52515 non-null  object \n",
      " 1   category_list      50051 non-null  object \n",
      " 2   funding_total_usd  42447 non-null  float64\n",
      " 3   status             52516 non-null  object \n",
      " 4   country_code       47014 non-null  object \n",
      " 5   state_code         45753 non-null  object \n",
      " 6   region             46157 non-null  object \n",
      " 7   city               46157 non-null  object \n",
      " 8   funding_rounds     52516 non-null  int64  \n",
      " 9   founded_at         52516 non-null  object \n",
      " 10  first_funding_at   52516 non-null  object \n",
      " 11  last_funding_at    52516 non-null  object \n",
      " 12  closed_at          4917 non-null   object \n",
      "dtypes: float64(1), int64(1), object(11)\n",
      "memory usage: 5.2+ MB\n",
      "None\n"
     ]
    }
   ],
   "source": [
    "information(df_train)"
   ]
  },
  {
   "cell_type": "markdown",
   "id": "c9b81e99",
   "metadata": {},
   "source": [
    "Данные загружены верно, в них присутствуют пропускт"
   ]
  },
  {
   "cell_type": "code",
   "execution_count": 16,
   "id": "c0e34fff",
   "metadata": {},
   "outputs": [
    {
     "name": "stdout",
     "output_type": "stream",
     "text": [
      "Размер фрейма (13125, 11) \n",
      "\n",
      "Первые пять строк таблицы\n"
     ]
    },
    {
     "data": {
      "text/html": [
       "<div>\n",
       "<style scoped>\n",
       "    .dataframe tbody tr th:only-of-type {\n",
       "        vertical-align: middle;\n",
       "    }\n",
       "\n",
       "    .dataframe tbody tr th {\n",
       "        vertical-align: top;\n",
       "    }\n",
       "\n",
       "    .dataframe thead th {\n",
       "        text-align: right;\n",
       "    }\n",
       "</style>\n",
       "<table border=\"1\" class=\"dataframe\">\n",
       "  <thead>\n",
       "    <tr style=\"text-align: right;\">\n",
       "      <th></th>\n",
       "      <th>name</th>\n",
       "      <th>category_list</th>\n",
       "      <th>funding_total_usd</th>\n",
       "      <th>country_code</th>\n",
       "      <th>state_code</th>\n",
       "      <th>region</th>\n",
       "      <th>city</th>\n",
       "      <th>funding_rounds</th>\n",
       "      <th>first_funding_at</th>\n",
       "      <th>last_funding_at</th>\n",
       "      <th>lifetime</th>\n",
       "    </tr>\n",
       "  </thead>\n",
       "  <tbody>\n",
       "    <tr>\n",
       "      <th>0</th>\n",
       "      <td>Crystalsol</td>\n",
       "      <td>Clean Technology</td>\n",
       "      <td>2819200.0</td>\n",
       "      <td>NIC</td>\n",
       "      <td>17</td>\n",
       "      <td>NaN</td>\n",
       "      <td>NaN</td>\n",
       "      <td>1</td>\n",
       "      <td>2009-07-01</td>\n",
       "      <td>2009-07-01</td>\n",
       "      <td>3501</td>\n",
       "    </tr>\n",
       "    <tr>\n",
       "      <th>1</th>\n",
       "      <td>JBI Fish &amp; Wings</td>\n",
       "      <td>Hospitality</td>\n",
       "      <td>NaN</td>\n",
       "      <td>USA</td>\n",
       "      <td>TN</td>\n",
       "      <td>TN - Other</td>\n",
       "      <td>Humboldt</td>\n",
       "      <td>1</td>\n",
       "      <td>2010-07-28</td>\n",
       "      <td>2010-07-28</td>\n",
       "      <td>2717</td>\n",
       "    </tr>\n",
       "    <tr>\n",
       "      <th>2</th>\n",
       "      <td>COINPLUS</td>\n",
       "      <td>Finance</td>\n",
       "      <td>428257.0</td>\n",
       "      <td>LUX</td>\n",
       "      <td>3</td>\n",
       "      <td>Esch-sur-alzette</td>\n",
       "      <td>Esch-sur-alzette</td>\n",
       "      <td>2</td>\n",
       "      <td>2014-05-15</td>\n",
       "      <td>2014-09-18</td>\n",
       "      <td>1295</td>\n",
       "    </tr>\n",
       "    <tr>\n",
       "      <th>3</th>\n",
       "      <td>Imagine Communications</td>\n",
       "      <td>Software|Video|Video Streaming</td>\n",
       "      <td>34700000.0</td>\n",
       "      <td>USA</td>\n",
       "      <td>CA</td>\n",
       "      <td>San Diego</td>\n",
       "      <td>San Diego</td>\n",
       "      <td>4</td>\n",
       "      <td>2005-01-01</td>\n",
       "      <td>2010-04-20</td>\n",
       "      <td>4748</td>\n",
       "    </tr>\n",
       "    <tr>\n",
       "      <th>4</th>\n",
       "      <td>DNA13</td>\n",
       "      <td>Software</td>\n",
       "      <td>4530000.0</td>\n",
       "      <td>CAN</td>\n",
       "      <td>ON</td>\n",
       "      <td>Ottawa</td>\n",
       "      <td>Ottawa</td>\n",
       "      <td>1</td>\n",
       "      <td>2007-05-08</td>\n",
       "      <td>2007-05-08</td>\n",
       "      <td>6209</td>\n",
       "    </tr>\n",
       "  </tbody>\n",
       "</table>\n",
       "</div>"
      ],
      "text/plain": [
       "                     name                   category_list  funding_total_usd  \\\n",
       "0              Crystalsol                Clean Technology          2819200.0   \n",
       "1        JBI Fish & Wings                     Hospitality                NaN   \n",
       "2                COINPLUS                         Finance           428257.0   \n",
       "3  Imagine Communications  Software|Video|Video Streaming         34700000.0   \n",
       "4                   DNA13                        Software          4530000.0   \n",
       "\n",
       "  country_code state_code            region              city  funding_rounds  \\\n",
       "0          NIC         17               NaN               NaN               1   \n",
       "1          USA         TN        TN - Other          Humboldt               1   \n",
       "2          LUX          3  Esch-sur-alzette  Esch-sur-alzette               2   \n",
       "3          USA         CA         San Diego         San Diego               4   \n",
       "4          CAN         ON            Ottawa            Ottawa               1   \n",
       "\n",
       "  first_funding_at last_funding_at  lifetime  \n",
       "0       2009-07-01      2009-07-01      3501  \n",
       "1       2010-07-28      2010-07-28      2717  \n",
       "2       2014-05-15      2014-09-18      1295  \n",
       "3       2005-01-01      2010-04-20      4748  \n",
       "4       2007-05-08      2007-05-08      6209  "
      ]
     },
     "metadata": {},
     "output_type": "display_data"
    },
    {
     "name": "stdout",
     "output_type": "stream",
     "text": [
      "\n",
      " Основная информация о файле\n",
      "<class 'pandas.core.frame.DataFrame'>\n",
      "RangeIndex: 13125 entries, 0 to 13124\n",
      "Data columns (total 11 columns):\n",
      " #   Column             Non-Null Count  Dtype  \n",
      "---  ------             --------------  -----  \n",
      " 0   name               13125 non-null  object \n",
      " 1   category_list      12534 non-null  object \n",
      " 2   funding_total_usd  10547 non-null  float64\n",
      " 3   country_code       11743 non-null  object \n",
      " 4   state_code         11430 non-null  object \n",
      " 5   region             11536 non-null  object \n",
      " 6   city               11538 non-null  object \n",
      " 7   funding_rounds     13125 non-null  int64  \n",
      " 8   first_funding_at   13125 non-null  object \n",
      " 9   last_funding_at    13125 non-null  object \n",
      " 10  lifetime           13125 non-null  int64  \n",
      "dtypes: float64(1), int64(2), object(8)\n",
      "memory usage: 1.1+ MB\n",
      "None\n"
     ]
    }
   ],
   "source": [
    "information(df_test)"
   ]
  },
  {
   "cell_type": "markdown",
   "id": "8812db6e",
   "metadata": {},
   "source": [
    "<b>Вывод</b>\n",
    "<br>На данном этапе были загружены датасеты. Первоначальный анализ данных показал нам, что:\n",
    "<br>- Таблица df_train имеет 52516 строк и 13 столбцов, а таблица df_test 13125 строк и 11 столбцов\n",
    "<br>- Выведенная на экран информация показывает нам, что в обеих таблицах присутствуют пропуски. Наименования столбцов оформлены верно, типы данных все верны, за исключением столбов с датами first_funding_at, last_funding_at, founded_at, closed_at таблицы df_train и столбцов first_funding_at, last_funding_at таблицы df_test\n",
    "<br>- Также мы можем заметить что в таблице df_test отсутствует столбец closed_all, а вместо него есть столбец lifetime\n",
    "<br><br>Перейдем к этапу предобработки данных для дальнейшего анализа данных"
   ]
  },
  {
   "cell_type": "markdown",
   "id": "b0fada95",
   "metadata": {},
   "source": [
    "### Предобработка данных"
   ]
  },
  {
   "cell_type": "markdown",
   "id": "89e7e809",
   "metadata": {},
   "source": [
    "#### Обработка пропущенных значений"
   ]
  },
  {
   "cell_type": "markdown",
   "id": "84694499",
   "metadata": {},
   "source": [
    "Рассмотрим подробнее датафреймы на наличие пропусков, а также явых и неявных дубликатов"
   ]
  },
  {
   "cell_type": "code",
   "execution_count": 17,
   "id": "2fabfb71",
   "metadata": {},
   "outputs": [
    {
     "data": {
      "text/plain": [
       "name                     1\n",
       "category_list         2465\n",
       "funding_total_usd    10069\n",
       "status                   0\n",
       "country_code          5502\n",
       "state_code            6763\n",
       "region                6359\n",
       "city                  6359\n",
       "funding_rounds           0\n",
       "founded_at               0\n",
       "first_funding_at         0\n",
       "last_funding_at          0\n",
       "closed_at            47599\n",
       "dtype: int64"
      ]
     },
     "execution_count": 17,
     "metadata": {},
     "output_type": "execute_result"
    }
   ],
   "source": [
    "df_train.isna().sum()"
   ]
  },
  {
   "cell_type": "markdown",
   "id": "9f6b2bff",
   "metadata": {},
   "source": [
    "Мы видим огромное количество пропусков в столбце closed_at, а также немалое количество пропусков в столбцах category_list, funding_total_usd, country_code, state_code, region, city. И один пропуск в столбце name. Исправим, заченив в объектовых столбцах пропуски на 'unknown', а в столбце closed_at вместо отсустствующей даты поставим дату 2018-01-01. А пропуски в столбце funding_total_usd заменим на медианное значение, сгруппированное по количеству раундов финансирования"
   ]
  },
  {
   "cell_type": "code",
   "execution_count": 18,
   "id": "fe5066f3",
   "metadata": {},
   "outputs": [
    {
     "data": {
      "text/html": [
       "<div>\n",
       "<style scoped>\n",
       "    .dataframe tbody tr th:only-of-type {\n",
       "        vertical-align: middle;\n",
       "    }\n",
       "\n",
       "    .dataframe tbody tr th {\n",
       "        vertical-align: top;\n",
       "    }\n",
       "\n",
       "    .dataframe thead th {\n",
       "        text-align: right;\n",
       "    }\n",
       "</style>\n",
       "<table border=\"1\" class=\"dataframe\">\n",
       "  <thead>\n",
       "    <tr style=\"text-align: right;\">\n",
       "      <th></th>\n",
       "      <th>name</th>\n",
       "      <th>category_list</th>\n",
       "      <th>funding_total_usd</th>\n",
       "      <th>status</th>\n",
       "      <th>country_code</th>\n",
       "      <th>state_code</th>\n",
       "      <th>region</th>\n",
       "      <th>city</th>\n",
       "      <th>funding_rounds</th>\n",
       "      <th>founded_at</th>\n",
       "      <th>first_funding_at</th>\n",
       "      <th>last_funding_at</th>\n",
       "      <th>closed_at</th>\n",
       "    </tr>\n",
       "  </thead>\n",
       "  <tbody>\n",
       "    <tr>\n",
       "      <th>0</th>\n",
       "      <td>Lunchgate</td>\n",
       "      <td>Online Reservations|Restaurants</td>\n",
       "      <td>828626.0</td>\n",
       "      <td>operating</td>\n",
       "      <td>CHE</td>\n",
       "      <td>25</td>\n",
       "      <td>Zurich</td>\n",
       "      <td>Zürich</td>\n",
       "      <td>2</td>\n",
       "      <td>2009-10-17</td>\n",
       "      <td>2011-05-01</td>\n",
       "      <td>2014-12-01</td>\n",
       "      <td>2018-01-01</td>\n",
       "    </tr>\n",
       "    <tr>\n",
       "      <th>1</th>\n",
       "      <td>EarLens</td>\n",
       "      <td>Manufacturing|Medical|Medical Devices</td>\n",
       "      <td>42935019.0</td>\n",
       "      <td>operating</td>\n",
       "      <td>USA</td>\n",
       "      <td>CA</td>\n",
       "      <td>SF Bay Area</td>\n",
       "      <td>Redwood City</td>\n",
       "      <td>4</td>\n",
       "      <td>2005-01-01</td>\n",
       "      <td>2010-05-04</td>\n",
       "      <td>2014-02-25</td>\n",
       "      <td>2018-01-01</td>\n",
       "    </tr>\n",
       "    <tr>\n",
       "      <th>2</th>\n",
       "      <td>Reviva Pharmaceuticals</td>\n",
       "      <td>Biotechnology</td>\n",
       "      <td>35456381.0</td>\n",
       "      <td>operating</td>\n",
       "      <td>USA</td>\n",
       "      <td>CA</td>\n",
       "      <td>SF Bay Area</td>\n",
       "      <td>San Jose</td>\n",
       "      <td>3</td>\n",
       "      <td>2006-01-01</td>\n",
       "      <td>2012-08-20</td>\n",
       "      <td>2014-07-02</td>\n",
       "      <td>2018-01-01</td>\n",
       "    </tr>\n",
       "    <tr>\n",
       "      <th>3</th>\n",
       "      <td>Sancilio and Company</td>\n",
       "      <td>Health Care</td>\n",
       "      <td>22250000.0</td>\n",
       "      <td>operating</td>\n",
       "      <td>unknown</td>\n",
       "      <td>unknown</td>\n",
       "      <td>unknown</td>\n",
       "      <td>unknown</td>\n",
       "      <td>3</td>\n",
       "      <td>2004-01-01</td>\n",
       "      <td>2011-09-01</td>\n",
       "      <td>2014-07-18</td>\n",
       "      <td>2018-01-01</td>\n",
       "    </tr>\n",
       "    <tr>\n",
       "      <th>4</th>\n",
       "      <td>WireTough Cylinders</td>\n",
       "      <td>Manufacturing</td>\n",
       "      <td>860000.0</td>\n",
       "      <td>operating</td>\n",
       "      <td>USA</td>\n",
       "      <td>VA</td>\n",
       "      <td>VA - Other</td>\n",
       "      <td>Bristol</td>\n",
       "      <td>1</td>\n",
       "      <td>2010-05-12</td>\n",
       "      <td>2012-02-01</td>\n",
       "      <td>2012-02-01</td>\n",
       "      <td>2018-01-01</td>\n",
       "    </tr>\n",
       "  </tbody>\n",
       "</table>\n",
       "</div>"
      ],
      "text/plain": [
       "                     name                          category_list  \\\n",
       "0               Lunchgate        Online Reservations|Restaurants   \n",
       "1                 EarLens  Manufacturing|Medical|Medical Devices   \n",
       "2  Reviva Pharmaceuticals                          Biotechnology   \n",
       "3    Sancilio and Company                            Health Care   \n",
       "4     WireTough Cylinders                          Manufacturing   \n",
       "\n",
       "   funding_total_usd     status country_code state_code       region  \\\n",
       "0           828626.0  operating          CHE         25       Zurich   \n",
       "1         42935019.0  operating          USA         CA  SF Bay Area   \n",
       "2         35456381.0  operating          USA         CA  SF Bay Area   \n",
       "3         22250000.0  operating      unknown    unknown      unknown   \n",
       "4           860000.0  operating          USA         VA   VA - Other   \n",
       "\n",
       "           city  funding_rounds  founded_at first_funding_at last_funding_at  \\\n",
       "0        Zürich               2  2009-10-17       2011-05-01      2014-12-01   \n",
       "1  Redwood City               4  2005-01-01       2010-05-04      2014-02-25   \n",
       "2      San Jose               3  2006-01-01       2012-08-20      2014-07-02   \n",
       "3       unknown               3  2004-01-01       2011-09-01      2014-07-18   \n",
       "4       Bristol               1  2010-05-12       2012-02-01      2012-02-01   \n",
       "\n",
       "    closed_at  \n",
       "0  2018-01-01  \n",
       "1  2018-01-01  \n",
       "2  2018-01-01  \n",
       "3  2018-01-01  \n",
       "4  2018-01-01  "
      ]
     },
     "execution_count": 18,
     "metadata": {},
     "output_type": "execute_result"
    }
   ],
   "source": [
    "columns = ['name', 'category_list', 'country_code', 'state_code', 'region', 'city']\n",
    "for column in columns:\n",
    "    df_train[column] = df_train[column].fillna('unknown')\n",
    "\n",
    "df_train['closed_at'] = df_train['closed_at'].fillna('2018-01-01')\n",
    "\n",
    "df_train['funding_total_usd'] = (\n",
    "  df_train.groupby('funding_rounds')['funding_total_usd']\n",
    "    .transform(lambda x: x.fillna(x.median()))\n",
    ")\n",
    "df_train.head()"
   ]
  },
  {
   "cell_type": "code",
   "execution_count": 19,
   "id": "d94be8bf",
   "metadata": {
    "scrolled": true
   },
   "outputs": [
    {
     "data": {
      "text/plain": [
       "name                 0\n",
       "category_list        0\n",
       "funding_total_usd    0\n",
       "status               0\n",
       "country_code         0\n",
       "state_code           0\n",
       "region               0\n",
       "city                 0\n",
       "funding_rounds       0\n",
       "founded_at           0\n",
       "first_funding_at     0\n",
       "last_funding_at      0\n",
       "closed_at            0\n",
       "dtype: int64"
      ]
     },
     "execution_count": 19,
     "metadata": {},
     "output_type": "execute_result"
    }
   ],
   "source": [
    "df_train.isna().sum()"
   ]
  },
  {
   "cell_type": "markdown",
   "id": "a734a6ce",
   "metadata": {},
   "source": [
    "Пропуски в датафрейме df_train устранены, перейдем к df_test"
   ]
  },
  {
   "cell_type": "code",
   "execution_count": 20,
   "id": "67ff3215",
   "metadata": {},
   "outputs": [
    {
     "data": {
      "text/plain": [
       "name                    0\n",
       "category_list         591\n",
       "funding_total_usd    2578\n",
       "country_code         1382\n",
       "state_code           1695\n",
       "region               1589\n",
       "city                 1587\n",
       "funding_rounds          0\n",
       "first_funding_at        0\n",
       "last_funding_at         0\n",
       "lifetime                0\n",
       "dtype: int64"
      ]
     },
     "execution_count": 20,
     "metadata": {},
     "output_type": "execute_result"
    }
   ],
   "source": [
    "df_test.isna().sum()"
   ]
  },
  {
   "cell_type": "markdown",
   "id": "62e394b7",
   "metadata": {},
   "source": [
    "Пропуски в тех же столбцах за исключением name, применим аналогичное решение"
   ]
  },
  {
   "cell_type": "code",
   "execution_count": 21,
   "id": "83755654",
   "metadata": {},
   "outputs": [
    {
     "data": {
      "text/html": [
       "<div>\n",
       "<style scoped>\n",
       "    .dataframe tbody tr th:only-of-type {\n",
       "        vertical-align: middle;\n",
       "    }\n",
       "\n",
       "    .dataframe tbody tr th {\n",
       "        vertical-align: top;\n",
       "    }\n",
       "\n",
       "    .dataframe thead th {\n",
       "        text-align: right;\n",
       "    }\n",
       "</style>\n",
       "<table border=\"1\" class=\"dataframe\">\n",
       "  <thead>\n",
       "    <tr style=\"text-align: right;\">\n",
       "      <th></th>\n",
       "      <th>name</th>\n",
       "      <th>category_list</th>\n",
       "      <th>funding_total_usd</th>\n",
       "      <th>country_code</th>\n",
       "      <th>state_code</th>\n",
       "      <th>region</th>\n",
       "      <th>city</th>\n",
       "      <th>funding_rounds</th>\n",
       "      <th>first_funding_at</th>\n",
       "      <th>last_funding_at</th>\n",
       "      <th>lifetime</th>\n",
       "    </tr>\n",
       "  </thead>\n",
       "  <tbody>\n",
       "    <tr>\n",
       "      <th>0</th>\n",
       "      <td>Crystalsol</td>\n",
       "      <td>Clean Technology</td>\n",
       "      <td>2.819200e+06</td>\n",
       "      <td>NIC</td>\n",
       "      <td>17</td>\n",
       "      <td>unknown</td>\n",
       "      <td>unknown</td>\n",
       "      <td>1</td>\n",
       "      <td>2009-07-01</td>\n",
       "      <td>2009-07-01</td>\n",
       "      <td>3501</td>\n",
       "    </tr>\n",
       "    <tr>\n",
       "      <th>1</th>\n",
       "      <td>JBI Fish &amp; Wings</td>\n",
       "      <td>Hospitality</td>\n",
       "      <td>8.841858e+05</td>\n",
       "      <td>USA</td>\n",
       "      <td>TN</td>\n",
       "      <td>TN - Other</td>\n",
       "      <td>Humboldt</td>\n",
       "      <td>1</td>\n",
       "      <td>2010-07-28</td>\n",
       "      <td>2010-07-28</td>\n",
       "      <td>2717</td>\n",
       "    </tr>\n",
       "    <tr>\n",
       "      <th>2</th>\n",
       "      <td>COINPLUS</td>\n",
       "      <td>Finance</td>\n",
       "      <td>4.282570e+05</td>\n",
       "      <td>LUX</td>\n",
       "      <td>3</td>\n",
       "      <td>Esch-sur-alzette</td>\n",
       "      <td>Esch-sur-alzette</td>\n",
       "      <td>2</td>\n",
       "      <td>2014-05-15</td>\n",
       "      <td>2014-09-18</td>\n",
       "      <td>1295</td>\n",
       "    </tr>\n",
       "    <tr>\n",
       "      <th>3</th>\n",
       "      <td>Imagine Communications</td>\n",
       "      <td>Software|Video|Video Streaming</td>\n",
       "      <td>3.470000e+07</td>\n",
       "      <td>USA</td>\n",
       "      <td>CA</td>\n",
       "      <td>San Diego</td>\n",
       "      <td>San Diego</td>\n",
       "      <td>4</td>\n",
       "      <td>2005-01-01</td>\n",
       "      <td>2010-04-20</td>\n",
       "      <td>4748</td>\n",
       "    </tr>\n",
       "    <tr>\n",
       "      <th>4</th>\n",
       "      <td>DNA13</td>\n",
       "      <td>Software</td>\n",
       "      <td>4.530000e+06</td>\n",
       "      <td>CAN</td>\n",
       "      <td>ON</td>\n",
       "      <td>Ottawa</td>\n",
       "      <td>Ottawa</td>\n",
       "      <td>1</td>\n",
       "      <td>2007-05-08</td>\n",
       "      <td>2007-05-08</td>\n",
       "      <td>6209</td>\n",
       "    </tr>\n",
       "  </tbody>\n",
       "</table>\n",
       "</div>"
      ],
      "text/plain": [
       "                     name                   category_list  funding_total_usd  \\\n",
       "0              Crystalsol                Clean Technology       2.819200e+06   \n",
       "1        JBI Fish & Wings                     Hospitality       8.841858e+05   \n",
       "2                COINPLUS                         Finance       4.282570e+05   \n",
       "3  Imagine Communications  Software|Video|Video Streaming       3.470000e+07   \n",
       "4                   DNA13                        Software       4.530000e+06   \n",
       "\n",
       "  country_code state_code            region              city  funding_rounds  \\\n",
       "0          NIC         17           unknown           unknown               1   \n",
       "1          USA         TN        TN - Other          Humboldt               1   \n",
       "2          LUX          3  Esch-sur-alzette  Esch-sur-alzette               2   \n",
       "3          USA         CA         San Diego         San Diego               4   \n",
       "4          CAN         ON            Ottawa            Ottawa               1   \n",
       "\n",
       "  first_funding_at last_funding_at  lifetime  \n",
       "0       2009-07-01      2009-07-01      3501  \n",
       "1       2010-07-28      2010-07-28      2717  \n",
       "2       2014-05-15      2014-09-18      1295  \n",
       "3       2005-01-01      2010-04-20      4748  \n",
       "4       2007-05-08      2007-05-08      6209  "
      ]
     },
     "execution_count": 21,
     "metadata": {},
     "output_type": "execute_result"
    }
   ],
   "source": [
    "columns = ['category_list', 'country_code', 'state_code', 'region', 'city']\n",
    "for column in columns:\n",
    "    df_test[column] = df_test[column].fillna('unknown')\n",
    "\n",
    "df_test['funding_total_usd'] = (\n",
    "  df_test.groupby('funding_rounds')['funding_total_usd']\n",
    "    .transform(lambda x: x.fillna(x.median()))\n",
    ")\n",
    "df_test.head()"
   ]
  },
  {
   "cell_type": "code",
   "execution_count": 22,
   "id": "f3a39e6e",
   "metadata": {},
   "outputs": [
    {
     "data": {
      "text/plain": [
       "name                 0\n",
       "category_list        0\n",
       "funding_total_usd    0\n",
       "country_code         0\n",
       "state_code           0\n",
       "region               0\n",
       "city                 0\n",
       "funding_rounds       0\n",
       "first_funding_at     0\n",
       "last_funding_at      0\n",
       "lifetime             0\n",
       "dtype: int64"
      ]
     },
     "execution_count": 22,
     "metadata": {},
     "output_type": "execute_result"
    }
   ],
   "source": [
    "df_test.isna().sum()"
   ]
  },
  {
   "cell_type": "markdown",
   "id": "ae106481",
   "metadata": {},
   "source": [
    "Пропуски устранены, перейдем к следующему шагу"
   ]
  },
  {
   "cell_type": "markdown",
   "id": "3283542d",
   "metadata": {},
   "source": [
    "#### Изменение типов данных"
   ]
  },
  {
   "cell_type": "markdown",
   "id": "7d164504",
   "metadata": {},
   "source": [
    "Предварительный анализ показал наличие столбцов с неверным форматом данных first_funding_at, last_funding_at, founded_at, closed_at таблицы df_train и аналогичных столбцов таблицы df_test"
   ]
  },
  {
   "cell_type": "code",
   "execution_count": 23,
   "id": "fac5083e",
   "metadata": {},
   "outputs": [
    {
     "name": "stdout",
     "output_type": "stream",
     "text": [
      "<class 'pandas.core.frame.DataFrame'>\n",
      "RangeIndex: 52516 entries, 0 to 52515\n",
      "Data columns (total 13 columns):\n",
      " #   Column             Non-Null Count  Dtype         \n",
      "---  ------             --------------  -----         \n",
      " 0   name               52516 non-null  object        \n",
      " 1   category_list      52516 non-null  object        \n",
      " 2   funding_total_usd  52516 non-null  float64       \n",
      " 3   status             52516 non-null  object        \n",
      " 4   country_code       52516 non-null  object        \n",
      " 5   state_code         52516 non-null  object        \n",
      " 6   region             52516 non-null  object        \n",
      " 7   city               52516 non-null  object        \n",
      " 8   funding_rounds     52516 non-null  int64         \n",
      " 9   founded_at         52516 non-null  datetime64[ns]\n",
      " 10  first_funding_at   52516 non-null  datetime64[ns]\n",
      " 11  last_funding_at    52516 non-null  datetime64[ns]\n",
      " 12  closed_at          52516 non-null  datetime64[ns]\n",
      "dtypes: datetime64[ns](4), float64(1), int64(1), object(7)\n",
      "memory usage: 5.2+ MB\n"
     ]
    }
   ],
   "source": [
    "columns = ['founded_at', 'first_funding_at', 'last_funding_at', 'closed_at']\n",
    "for column in columns:    \n",
    "    df_train[column] = pd.to_datetime(df_train[column], format='%Y-%m-%d')\n",
    "df_train.info()"
   ]
  },
  {
   "cell_type": "code",
   "execution_count": 24,
   "id": "9a9c7caf",
   "metadata": {},
   "outputs": [
    {
     "name": "stdout",
     "output_type": "stream",
     "text": [
      "<class 'pandas.core.frame.DataFrame'>\n",
      "RangeIndex: 13125 entries, 0 to 13124\n",
      "Data columns (total 11 columns):\n",
      " #   Column             Non-Null Count  Dtype         \n",
      "---  ------             --------------  -----         \n",
      " 0   name               13125 non-null  object        \n",
      " 1   category_list      13125 non-null  object        \n",
      " 2   funding_total_usd  13125 non-null  float64       \n",
      " 3   country_code       13125 non-null  object        \n",
      " 4   state_code         13125 non-null  object        \n",
      " 5   region             13125 non-null  object        \n",
      " 6   city               13125 non-null  object        \n",
      " 7   funding_rounds     13125 non-null  int64         \n",
      " 8   first_funding_at   13125 non-null  datetime64[ns]\n",
      " 9   last_funding_at    13125 non-null  datetime64[ns]\n",
      " 10  lifetime           13125 non-null  int64         \n",
      "dtypes: datetime64[ns](2), float64(1), int64(2), object(6)\n",
      "memory usage: 1.1+ MB\n"
     ]
    }
   ],
   "source": [
    "columns = ['first_funding_at', 'last_funding_at']\n",
    "for column in columns:    \n",
    "    df_test[column] = pd.to_datetime(df_test[column], format='%Y-%m-%d')\n",
    "df_test.info()"
   ]
  },
  {
   "cell_type": "markdown",
   "id": "6c78c408",
   "metadata": {},
   "source": [
    "Типы данных изменены, перейдем к поиску дубликатов"
   ]
  },
  {
   "cell_type": "markdown",
   "id": "84196798",
   "metadata": {},
   "source": [
    "#### Поиск и устранение дубликатов"
   ]
  },
  {
   "cell_type": "code",
   "execution_count": 25,
   "id": "533aa00a",
   "metadata": {},
   "outputs": [
    {
     "data": {
      "text/plain": [
       "0"
      ]
     },
     "execution_count": 25,
     "metadata": {},
     "output_type": "execute_result"
    }
   ],
   "source": [
    "df_train.duplicated().sum()"
   ]
  },
  {
   "cell_type": "code",
   "execution_count": 26,
   "id": "f9c704a1",
   "metadata": {},
   "outputs": [
    {
     "data": {
      "text/plain": [
       "10"
      ]
     },
     "execution_count": 26,
     "metadata": {},
     "output_type": "execute_result"
    }
   ],
   "source": [
    "temp = df_train.copy()\n",
    "temp = temp.drop('name', axis=1)\n",
    "temp.duplicated().sum()"
   ]
  },
  {
   "cell_type": "markdown",
   "id": "90ed0edf",
   "metadata": {},
   "source": [
    "Если не учитывать наименования стартапов, таблица содержит 10 явных дубликатов, удалим их для дальнейшего более точного обучения модели"
   ]
  },
  {
   "cell_type": "code",
   "execution_count": 27,
   "id": "047a24de",
   "metadata": {},
   "outputs": [],
   "source": [
    "df_train = df_train.drop_duplicates(subset=df_train.columns[1:])"
   ]
  },
  {
   "cell_type": "code",
   "execution_count": 28,
   "id": "fc8d54f1",
   "metadata": {},
   "outputs": [
    {
     "data": {
      "text/plain": [
       "0"
      ]
     },
     "execution_count": 28,
     "metadata": {},
     "output_type": "execute_result"
    }
   ],
   "source": [
    "temp = df_train.drop('name', axis=1)\n",
    "temp.duplicated().sum()"
   ]
  },
  {
   "cell_type": "markdown",
   "id": "987989f7",
   "metadata": {},
   "source": [
    "Явные дубликаты обнаружены и устранены в тренировочных данных, посмотрим на неявные дубликаты"
   ]
  },
  {
   "cell_type": "code",
   "execution_count": 29,
   "id": "cc0cdc0f",
   "metadata": {
    "scrolled": true
   },
   "outputs": [
    {
     "name": "stdout",
     "output_type": "stream",
     "text": [
      "Столбец \"name\": 52506\n",
      "Столбец \"category_list\": 22106\n",
      "Столбец \"status\": 2\n",
      "Столбец \"country_code\": 135\n",
      "Столбец \"state_code\": 301\n",
      "Столбец \"region\": 1037\n",
      "Столбец \"city\": 4478\n"
     ]
    }
   ],
   "source": [
    "for column in df_train.columns:\n",
    "    if df_train[column].dtype == 'object':\n",
    "        unique_values = df_train[column].nunique()\n",
    "        print(f'Столбец \"{column}\": {unique_values}')"
   ]
  },
  {
   "cell_type": "markdown",
   "id": "79064b18",
   "metadata": {},
   "source": [
    "Мы видим, что уникальных значений датасета очень много, и очень трудно отследить наличие неявных дубликатов. Для дальнейшего анализа и обучения необходимо укрупнить категории. Создать новый столбец - continent и его использовать в дальнейшем для анализа и обучения модели вместо столбцов country_code, state_code, region, city. А также укрупнить наименования категорий"
   ]
  },
  {
   "cell_type": "markdown",
   "id": "8d57b241",
   "metadata": {},
   "source": [
    "Добавим столбец continent"
   ]
  },
  {
   "cell_type": "code",
   "execution_count": 30,
   "id": "a883299d",
   "metadata": {
    "scrolled": true
   },
   "outputs": [
    {
     "data": {
      "text/html": [
       "<div>\n",
       "<style scoped>\n",
       "    .dataframe tbody tr th:only-of-type {\n",
       "        vertical-align: middle;\n",
       "    }\n",
       "\n",
       "    .dataframe tbody tr th {\n",
       "        vertical-align: top;\n",
       "    }\n",
       "\n",
       "    .dataframe thead th {\n",
       "        text-align: right;\n",
       "    }\n",
       "</style>\n",
       "<table border=\"1\" class=\"dataframe\">\n",
       "  <thead>\n",
       "    <tr style=\"text-align: right;\">\n",
       "      <th></th>\n",
       "      <th>name</th>\n",
       "      <th>category_list</th>\n",
       "      <th>funding_total_usd</th>\n",
       "      <th>status</th>\n",
       "      <th>country_code</th>\n",
       "      <th>state_code</th>\n",
       "      <th>region</th>\n",
       "      <th>city</th>\n",
       "      <th>funding_rounds</th>\n",
       "      <th>founded_at</th>\n",
       "      <th>first_funding_at</th>\n",
       "      <th>last_funding_at</th>\n",
       "      <th>closed_at</th>\n",
       "      <th>continent</th>\n",
       "    </tr>\n",
       "  </thead>\n",
       "  <tbody>\n",
       "    <tr>\n",
       "      <th>0</th>\n",
       "      <td>Lunchgate</td>\n",
       "      <td>Online Reservations|Restaurants</td>\n",
       "      <td>828626.0</td>\n",
       "      <td>operating</td>\n",
       "      <td>CHE</td>\n",
       "      <td>25</td>\n",
       "      <td>Zurich</td>\n",
       "      <td>Zürich</td>\n",
       "      <td>2</td>\n",
       "      <td>2009-10-17</td>\n",
       "      <td>2011-05-01</td>\n",
       "      <td>2014-12-01</td>\n",
       "      <td>2018-01-01</td>\n",
       "      <td>Europe</td>\n",
       "    </tr>\n",
       "    <tr>\n",
       "      <th>1</th>\n",
       "      <td>EarLens</td>\n",
       "      <td>Manufacturing|Medical|Medical Devices</td>\n",
       "      <td>42935019.0</td>\n",
       "      <td>operating</td>\n",
       "      <td>USA</td>\n",
       "      <td>CA</td>\n",
       "      <td>SF Bay Area</td>\n",
       "      <td>Redwood City</td>\n",
       "      <td>4</td>\n",
       "      <td>2005-01-01</td>\n",
       "      <td>2010-05-04</td>\n",
       "      <td>2014-02-25</td>\n",
       "      <td>2018-01-01</td>\n",
       "      <td>North America</td>\n",
       "    </tr>\n",
       "    <tr>\n",
       "      <th>2</th>\n",
       "      <td>Reviva Pharmaceuticals</td>\n",
       "      <td>Biotechnology</td>\n",
       "      <td>35456381.0</td>\n",
       "      <td>operating</td>\n",
       "      <td>USA</td>\n",
       "      <td>CA</td>\n",
       "      <td>SF Bay Area</td>\n",
       "      <td>San Jose</td>\n",
       "      <td>3</td>\n",
       "      <td>2006-01-01</td>\n",
       "      <td>2012-08-20</td>\n",
       "      <td>2014-07-02</td>\n",
       "      <td>2018-01-01</td>\n",
       "      <td>North America</td>\n",
       "    </tr>\n",
       "    <tr>\n",
       "      <th>3</th>\n",
       "      <td>Sancilio and Company</td>\n",
       "      <td>Health Care</td>\n",
       "      <td>22250000.0</td>\n",
       "      <td>operating</td>\n",
       "      <td>unknown</td>\n",
       "      <td>unknown</td>\n",
       "      <td>unknown</td>\n",
       "      <td>unknown</td>\n",
       "      <td>3</td>\n",
       "      <td>2004-01-01</td>\n",
       "      <td>2011-09-01</td>\n",
       "      <td>2014-07-18</td>\n",
       "      <td>2018-01-01</td>\n",
       "      <td>Unknown</td>\n",
       "    </tr>\n",
       "    <tr>\n",
       "      <th>4</th>\n",
       "      <td>WireTough Cylinders</td>\n",
       "      <td>Manufacturing</td>\n",
       "      <td>860000.0</td>\n",
       "      <td>operating</td>\n",
       "      <td>USA</td>\n",
       "      <td>VA</td>\n",
       "      <td>VA - Other</td>\n",
       "      <td>Bristol</td>\n",
       "      <td>1</td>\n",
       "      <td>2010-05-12</td>\n",
       "      <td>2012-02-01</td>\n",
       "      <td>2012-02-01</td>\n",
       "      <td>2018-01-01</td>\n",
       "      <td>North America</td>\n",
       "    </tr>\n",
       "  </tbody>\n",
       "</table>\n",
       "</div>"
      ],
      "text/plain": [
       "                     name                          category_list  \\\n",
       "0               Lunchgate        Online Reservations|Restaurants   \n",
       "1                 EarLens  Manufacturing|Medical|Medical Devices   \n",
       "2  Reviva Pharmaceuticals                          Biotechnology   \n",
       "3    Sancilio and Company                            Health Care   \n",
       "4     WireTough Cylinders                          Manufacturing   \n",
       "\n",
       "   funding_total_usd     status country_code state_code       region  \\\n",
       "0           828626.0  operating          CHE         25       Zurich   \n",
       "1         42935019.0  operating          USA         CA  SF Bay Area   \n",
       "2         35456381.0  operating          USA         CA  SF Bay Area   \n",
       "3         22250000.0  operating      unknown    unknown      unknown   \n",
       "4           860000.0  operating          USA         VA   VA - Other   \n",
       "\n",
       "           city  funding_rounds founded_at first_funding_at last_funding_at  \\\n",
       "0        Zürich               2 2009-10-17       2011-05-01      2014-12-01   \n",
       "1  Redwood City               4 2005-01-01       2010-05-04      2014-02-25   \n",
       "2      San Jose               3 2006-01-01       2012-08-20      2014-07-02   \n",
       "3       unknown               3 2004-01-01       2011-09-01      2014-07-18   \n",
       "4       Bristol               1 2010-05-12       2012-02-01      2012-02-01   \n",
       "\n",
       "   closed_at      continent  \n",
       "0 2018-01-01         Europe  \n",
       "1 2018-01-01  North America  \n",
       "2 2018-01-01  North America  \n",
       "3 2018-01-01        Unknown  \n",
       "4 2018-01-01  North America  "
      ]
     },
     "execution_count": 30,
     "metadata": {},
     "output_type": "execute_result"
    }
   ],
   "source": [
    "df_train['country_code_standart'] = df_train['country_code'].apply(country_code_new)\n",
    "df_train['continent'] = df_train['country_code_standart'].apply(country_to_continent)\n",
    "\n",
    "df_train = df_train.drop('country_code_standart', axis=1)\n",
    "df_train.head()"
   ]
  },
  {
   "cell_type": "markdown",
   "id": "1c6e4b3c",
   "metadata": {},
   "source": [
    "Теперь укрупним категории, выделив первое слово в наименовании категории как главное"
   ]
  },
  {
   "cell_type": "code",
   "execution_count": 31,
   "id": "00a8f061",
   "metadata": {},
   "outputs": [],
   "source": [
    "df_train['main_category'] = df_train['category_list'].apply(change_category_name)"
   ]
  },
  {
   "cell_type": "code",
   "execution_count": 32,
   "id": "8774826f",
   "metadata": {},
   "outputs": [
    {
     "data": {
      "text/plain": [
       "707"
      ]
     },
     "execution_count": 32,
     "metadata": {},
     "output_type": "execute_result"
    }
   ],
   "source": [
    "df_train['main_category'].nunique()"
   ]
  },
  {
   "cell_type": "markdown",
   "id": "c95bfd41",
   "metadata": {},
   "source": [
    "Укрупнение данных прошло успешно. Категорий все равно слишком много для отслеживания неявных дубликатов, но уже в разы меньше"
   ]
  },
  {
   "cell_type": "markdown",
   "id": "a6a9b709",
   "metadata": {},
   "source": [
    "Добавим столбец lifetime"
   ]
  },
  {
   "cell_type": "code",
   "execution_count": 33,
   "id": "33573e5f",
   "metadata": {},
   "outputs": [
    {
     "data": {
      "text/html": [
       "<div>\n",
       "<style scoped>\n",
       "    .dataframe tbody tr th:only-of-type {\n",
       "        vertical-align: middle;\n",
       "    }\n",
       "\n",
       "    .dataframe tbody tr th {\n",
       "        vertical-align: top;\n",
       "    }\n",
       "\n",
       "    .dataframe thead th {\n",
       "        text-align: right;\n",
       "    }\n",
       "</style>\n",
       "<table border=\"1\" class=\"dataframe\">\n",
       "  <thead>\n",
       "    <tr style=\"text-align: right;\">\n",
       "      <th></th>\n",
       "      <th>name</th>\n",
       "      <th>category_list</th>\n",
       "      <th>funding_total_usd</th>\n",
       "      <th>status</th>\n",
       "      <th>country_code</th>\n",
       "      <th>state_code</th>\n",
       "      <th>region</th>\n",
       "      <th>city</th>\n",
       "      <th>funding_rounds</th>\n",
       "      <th>founded_at</th>\n",
       "      <th>first_funding_at</th>\n",
       "      <th>last_funding_at</th>\n",
       "      <th>closed_at</th>\n",
       "      <th>continent</th>\n",
       "      <th>main_category</th>\n",
       "      <th>lifetime</th>\n",
       "    </tr>\n",
       "  </thead>\n",
       "  <tbody>\n",
       "    <tr>\n",
       "      <th>13549</th>\n",
       "      <td>Nextnav</td>\n",
       "      <td>Navigation|Utilities</td>\n",
       "      <td>99184501.0</td>\n",
       "      <td>operating</td>\n",
       "      <td>USA</td>\n",
       "      <td>CA</td>\n",
       "      <td>SF Bay Area</td>\n",
       "      <td>Sunnyvale</td>\n",
       "      <td>3</td>\n",
       "      <td>2007-01-01</td>\n",
       "      <td>2011-11-16</td>\n",
       "      <td>2014-07-24</td>\n",
       "      <td>2018-01-01</td>\n",
       "      <td>North America</td>\n",
       "      <td>Navigation</td>\n",
       "      <td>4018</td>\n",
       "    </tr>\n",
       "    <tr>\n",
       "      <th>21516</th>\n",
       "      <td>Maimai</td>\n",
       "      <td>Apps|Chat|Enterprises</td>\n",
       "      <td>20000000.0</td>\n",
       "      <td>operating</td>\n",
       "      <td>CHN</td>\n",
       "      <td>22</td>\n",
       "      <td>Beijing</td>\n",
       "      <td>Beijing</td>\n",
       "      <td>1</td>\n",
       "      <td>2012-09-01</td>\n",
       "      <td>2014-08-14</td>\n",
       "      <td>2014-08-14</td>\n",
       "      <td>2018-01-01</td>\n",
       "      <td>Asia</td>\n",
       "      <td>Apps</td>\n",
       "      <td>1948</td>\n",
       "    </tr>\n",
       "    <tr>\n",
       "      <th>5447</th>\n",
       "      <td>StaffInsight</td>\n",
       "      <td>Business Productivity|Health Care|Hospitality|...</td>\n",
       "      <td>860000.0</td>\n",
       "      <td>operating</td>\n",
       "      <td>USA</td>\n",
       "      <td>LA</td>\n",
       "      <td>New Orleans</td>\n",
       "      <td>New Orleans</td>\n",
       "      <td>1</td>\n",
       "      <td>2010-01-01</td>\n",
       "      <td>2013-09-26</td>\n",
       "      <td>2013-09-26</td>\n",
       "      <td>2018-01-01</td>\n",
       "      <td>North America</td>\n",
       "      <td>Business Productivity</td>\n",
       "      <td>2922</td>\n",
       "    </tr>\n",
       "    <tr>\n",
       "      <th>51945</th>\n",
       "      <td>Beans Around</td>\n",
       "      <td>Coffee|Delivery|Subscription Service</td>\n",
       "      <td>100000.0</td>\n",
       "      <td>operating</td>\n",
       "      <td>unknown</td>\n",
       "      <td>unknown</td>\n",
       "      <td>unknown</td>\n",
       "      <td>unknown</td>\n",
       "      <td>1</td>\n",
       "      <td>2015-04-01</td>\n",
       "      <td>2015-09-04</td>\n",
       "      <td>2015-09-04</td>\n",
       "      <td>2018-01-01</td>\n",
       "      <td>Unknown</td>\n",
       "      <td>Coffee</td>\n",
       "      <td>1006</td>\n",
       "    </tr>\n",
       "    <tr>\n",
       "      <th>33254</th>\n",
       "      <td>MetaCert</td>\n",
       "      <td>Mobile Security|Security</td>\n",
       "      <td>740000.0</td>\n",
       "      <td>operating</td>\n",
       "      <td>USA</td>\n",
       "      <td>CA</td>\n",
       "      <td>SF Bay Area</td>\n",
       "      <td>San Francisco</td>\n",
       "      <td>1</td>\n",
       "      <td>2011-03-01</td>\n",
       "      <td>2012-07-25</td>\n",
       "      <td>2012-07-25</td>\n",
       "      <td>2018-01-01</td>\n",
       "      <td>North America</td>\n",
       "      <td>Mobile Security</td>\n",
       "      <td>2498</td>\n",
       "    </tr>\n",
       "  </tbody>\n",
       "</table>\n",
       "</div>"
      ],
      "text/plain": [
       "               name                                      category_list  \\\n",
       "13549       Nextnav                               Navigation|Utilities   \n",
       "21516        Maimai                              Apps|Chat|Enterprises   \n",
       "5447   StaffInsight  Business Productivity|Health Care|Hospitality|...   \n",
       "51945  Beans Around               Coffee|Delivery|Subscription Service   \n",
       "33254      MetaCert                           Mobile Security|Security   \n",
       "\n",
       "       funding_total_usd     status country_code state_code       region  \\\n",
       "13549         99184501.0  operating          USA         CA  SF Bay Area   \n",
       "21516         20000000.0  operating          CHN         22      Beijing   \n",
       "5447            860000.0  operating          USA         LA  New Orleans   \n",
       "51945           100000.0  operating      unknown    unknown      unknown   \n",
       "33254           740000.0  operating          USA         CA  SF Bay Area   \n",
       "\n",
       "                city  funding_rounds founded_at first_funding_at  \\\n",
       "13549      Sunnyvale               3 2007-01-01       2011-11-16   \n",
       "21516        Beijing               1 2012-09-01       2014-08-14   \n",
       "5447     New Orleans               1 2010-01-01       2013-09-26   \n",
       "51945        unknown               1 2015-04-01       2015-09-04   \n",
       "33254  San Francisco               1 2011-03-01       2012-07-25   \n",
       "\n",
       "      last_funding_at  closed_at      continent          main_category  \\\n",
       "13549      2014-07-24 2018-01-01  North America             Navigation   \n",
       "21516      2014-08-14 2018-01-01           Asia                   Apps   \n",
       "5447       2013-09-26 2018-01-01  North America  Business Productivity   \n",
       "51945      2015-09-04 2018-01-01        Unknown                 Coffee   \n",
       "33254      2012-07-25 2018-01-01  North America        Mobile Security   \n",
       "\n",
       "       lifetime  \n",
       "13549      4018  \n",
       "21516      1948  \n",
       "5447       2922  \n",
       "51945      1006  \n",
       "33254      2498  "
      ]
     },
     "execution_count": 33,
     "metadata": {},
     "output_type": "execute_result"
    }
   ],
   "source": [
    "df_train['lifetime'] = (df_train.closed_at - df_train.founded_at).dt.days\n",
    "df_train.sample(5)"
   ]
  },
  {
   "cell_type": "markdown",
   "id": "e6bafb78",
   "metadata": {},
   "source": [
    "Теперь рассмотрим датасет df_test"
   ]
  },
  {
   "cell_type": "code",
   "execution_count": 34,
   "id": "0fc8bf43",
   "metadata": {},
   "outputs": [
    {
     "name": "stdout",
     "output_type": "stream",
     "text": [
      "<class 'pandas.core.frame.DataFrame'>\n",
      "RangeIndex: 13125 entries, 0 to 13124\n",
      "Data columns (total 11 columns):\n",
      " #   Column             Non-Null Count  Dtype         \n",
      "---  ------             --------------  -----         \n",
      " 0   name               13125 non-null  object        \n",
      " 1   category_list      13125 non-null  object        \n",
      " 2   funding_total_usd  13125 non-null  float64       \n",
      " 3   country_code       13125 non-null  object        \n",
      " 4   state_code         13125 non-null  object        \n",
      " 5   region             13125 non-null  object        \n",
      " 6   city               13125 non-null  object        \n",
      " 7   funding_rounds     13125 non-null  int64         \n",
      " 8   first_funding_at   13125 non-null  datetime64[ns]\n",
      " 9   last_funding_at    13125 non-null  datetime64[ns]\n",
      " 10  lifetime           13125 non-null  int64         \n",
      "dtypes: datetime64[ns](2), float64(1), int64(2), object(6)\n",
      "memory usage: 1.1+ MB\n"
     ]
    }
   ],
   "source": [
    "columns = ['first_funding_at', 'last_funding_at']\n",
    "for column in columns:    \n",
    "    df_test[column] = pd.to_datetime(df_test[column], format='%Y-%m-%d')\n",
    "df_test.info()"
   ]
  },
  {
   "cell_type": "markdown",
   "id": "1406a974",
   "metadata": {},
   "source": [
    "Изменение типов данных прошло успешно. Выполним проверку на наличие дубликатов и проведем укрупнение категориальных данных"
   ]
  },
  {
   "cell_type": "code",
   "execution_count": 35,
   "id": "4306e64f",
   "metadata": {},
   "outputs": [
    {
     "data": {
      "text/plain": [
       "0"
      ]
     },
     "execution_count": 35,
     "metadata": {},
     "output_type": "execute_result"
    }
   ],
   "source": [
    "df_test.duplicated().sum()"
   ]
  },
  {
   "cell_type": "code",
   "execution_count": 36,
   "id": "56f0ba6e",
   "metadata": {},
   "outputs": [
    {
     "data": {
      "text/plain": [
       "1"
      ]
     },
     "execution_count": 36,
     "metadata": {},
     "output_type": "execute_result"
    }
   ],
   "source": [
    "temp = df_test.copy()\n",
    "temp = temp.drop('name', axis=1)\n",
    "temp.duplicated().sum()"
   ]
  },
  {
   "cell_type": "markdown",
   "id": "5b812c85",
   "metadata": {},
   "source": [
    "Обнаружен один дубликат. Учитывая, что полных дубликатов не найдено, мы оставим эту строчку без изменений. Перейдем к укрупнению категориальных данных"
   ]
  },
  {
   "cell_type": "code",
   "execution_count": 37,
   "id": "d2fa85b6",
   "metadata": {},
   "outputs": [
    {
     "name": "stdout",
     "output_type": "stream",
     "text": [
      "Столбец \"name\": 13125\n",
      "Столбец \"category_list\": 6207\n",
      "Столбец \"country_code\": 97\n",
      "Столбец \"state_code\": 236\n",
      "Столбец \"region\": 689\n",
      "Столбец \"city\": 2118\n"
     ]
    }
   ],
   "source": [
    "for column in df_test.columns:\n",
    "    if df_test[column].dtype == 'object':\n",
    "        unique_values = df_test[column].nunique()\n",
    "        print(f'Столбец \"{column}\": {unique_values}')"
   ]
  },
  {
   "cell_type": "markdown",
   "id": "4a1ef857",
   "metadata": {},
   "source": [
    "Здесь также очень много уникальных значений, и будет тяжело отследить наличие неявных дубликатов, выполним укрупнений категорий, добавив столбец main_category и continent"
   ]
  },
  {
   "cell_type": "code",
   "execution_count": 38,
   "id": "630f9c53",
   "metadata": {},
   "outputs": [
    {
     "data": {
      "text/html": [
       "<div>\n",
       "<style scoped>\n",
       "    .dataframe tbody tr th:only-of-type {\n",
       "        vertical-align: middle;\n",
       "    }\n",
       "\n",
       "    .dataframe tbody tr th {\n",
       "        vertical-align: top;\n",
       "    }\n",
       "\n",
       "    .dataframe thead th {\n",
       "        text-align: right;\n",
       "    }\n",
       "</style>\n",
       "<table border=\"1\" class=\"dataframe\">\n",
       "  <thead>\n",
       "    <tr style=\"text-align: right;\">\n",
       "      <th></th>\n",
       "      <th>name</th>\n",
       "      <th>category_list</th>\n",
       "      <th>funding_total_usd</th>\n",
       "      <th>country_code</th>\n",
       "      <th>state_code</th>\n",
       "      <th>region</th>\n",
       "      <th>city</th>\n",
       "      <th>funding_rounds</th>\n",
       "      <th>first_funding_at</th>\n",
       "      <th>last_funding_at</th>\n",
       "      <th>lifetime</th>\n",
       "      <th>continent</th>\n",
       "    </tr>\n",
       "  </thead>\n",
       "  <tbody>\n",
       "    <tr>\n",
       "      <th>0</th>\n",
       "      <td>Crystalsol</td>\n",
       "      <td>Clean Technology</td>\n",
       "      <td>2.819200e+06</td>\n",
       "      <td>NIC</td>\n",
       "      <td>17</td>\n",
       "      <td>unknown</td>\n",
       "      <td>unknown</td>\n",
       "      <td>1</td>\n",
       "      <td>2009-07-01</td>\n",
       "      <td>2009-07-01</td>\n",
       "      <td>3501</td>\n",
       "      <td>North America</td>\n",
       "    </tr>\n",
       "    <tr>\n",
       "      <th>1</th>\n",
       "      <td>JBI Fish &amp; Wings</td>\n",
       "      <td>Hospitality</td>\n",
       "      <td>8.841858e+05</td>\n",
       "      <td>USA</td>\n",
       "      <td>TN</td>\n",
       "      <td>TN - Other</td>\n",
       "      <td>Humboldt</td>\n",
       "      <td>1</td>\n",
       "      <td>2010-07-28</td>\n",
       "      <td>2010-07-28</td>\n",
       "      <td>2717</td>\n",
       "      <td>North America</td>\n",
       "    </tr>\n",
       "    <tr>\n",
       "      <th>2</th>\n",
       "      <td>COINPLUS</td>\n",
       "      <td>Finance</td>\n",
       "      <td>4.282570e+05</td>\n",
       "      <td>LUX</td>\n",
       "      <td>3</td>\n",
       "      <td>Esch-sur-alzette</td>\n",
       "      <td>Esch-sur-alzette</td>\n",
       "      <td>2</td>\n",
       "      <td>2014-05-15</td>\n",
       "      <td>2014-09-18</td>\n",
       "      <td>1295</td>\n",
       "      <td>Europe</td>\n",
       "    </tr>\n",
       "    <tr>\n",
       "      <th>3</th>\n",
       "      <td>Imagine Communications</td>\n",
       "      <td>Software|Video|Video Streaming</td>\n",
       "      <td>3.470000e+07</td>\n",
       "      <td>USA</td>\n",
       "      <td>CA</td>\n",
       "      <td>San Diego</td>\n",
       "      <td>San Diego</td>\n",
       "      <td>4</td>\n",
       "      <td>2005-01-01</td>\n",
       "      <td>2010-04-20</td>\n",
       "      <td>4748</td>\n",
       "      <td>North America</td>\n",
       "    </tr>\n",
       "    <tr>\n",
       "      <th>4</th>\n",
       "      <td>DNA13</td>\n",
       "      <td>Software</td>\n",
       "      <td>4.530000e+06</td>\n",
       "      <td>CAN</td>\n",
       "      <td>ON</td>\n",
       "      <td>Ottawa</td>\n",
       "      <td>Ottawa</td>\n",
       "      <td>1</td>\n",
       "      <td>2007-05-08</td>\n",
       "      <td>2007-05-08</td>\n",
       "      <td>6209</td>\n",
       "      <td>North America</td>\n",
       "    </tr>\n",
       "  </tbody>\n",
       "</table>\n",
       "</div>"
      ],
      "text/plain": [
       "                     name                   category_list  funding_total_usd  \\\n",
       "0              Crystalsol                Clean Technology       2.819200e+06   \n",
       "1        JBI Fish & Wings                     Hospitality       8.841858e+05   \n",
       "2                COINPLUS                         Finance       4.282570e+05   \n",
       "3  Imagine Communications  Software|Video|Video Streaming       3.470000e+07   \n",
       "4                   DNA13                        Software       4.530000e+06   \n",
       "\n",
       "  country_code state_code            region              city  funding_rounds  \\\n",
       "0          NIC         17           unknown           unknown               1   \n",
       "1          USA         TN        TN - Other          Humboldt               1   \n",
       "2          LUX          3  Esch-sur-alzette  Esch-sur-alzette               2   \n",
       "3          USA         CA         San Diego         San Diego               4   \n",
       "4          CAN         ON            Ottawa            Ottawa               1   \n",
       "\n",
       "  first_funding_at last_funding_at  lifetime      continent  \n",
       "0       2009-07-01      2009-07-01      3501  North America  \n",
       "1       2010-07-28      2010-07-28      2717  North America  \n",
       "2       2014-05-15      2014-09-18      1295         Europe  \n",
       "3       2005-01-01      2010-04-20      4748  North America  \n",
       "4       2007-05-08      2007-05-08      6209  North America  "
      ]
     },
     "execution_count": 38,
     "metadata": {},
     "output_type": "execute_result"
    }
   ],
   "source": [
    "df_test['country_code_standart'] = df_test['country_code'].apply(country_code_new)\n",
    "df_test['continent'] = df_test['country_code_standart'].apply(country_to_continent)\n",
    "\n",
    "df_test = df_test.drop('country_code_standart', axis=1)\n",
    "df_test.head()"
   ]
  },
  {
   "cell_type": "code",
   "execution_count": 39,
   "id": "1ce6ce89",
   "metadata": {},
   "outputs": [
    {
     "data": {
      "text/plain": [
       "559"
      ]
     },
     "execution_count": 39,
     "metadata": {},
     "output_type": "execute_result"
    }
   ],
   "source": [
    "df_test['main_category'] = df_test['category_list'].apply(change_category_name)\n",
    "df_test['main_category'].nunique()"
   ]
  },
  {
   "cell_type": "markdown",
   "id": "9caa4696",
   "metadata": {},
   "source": [
    "Укрупнение категорий прошло успешно. Добавим столбец lifetime_year для более точного анализа и предсказания в дальнейшем"
   ]
  },
  {
   "cell_type": "code",
   "execution_count": 40,
   "id": "5bbf300f",
   "metadata": {},
   "outputs": [
    {
     "data": {
      "text/html": [
       "<div>\n",
       "<style scoped>\n",
       "    .dataframe tbody tr th:only-of-type {\n",
       "        vertical-align: middle;\n",
       "    }\n",
       "\n",
       "    .dataframe tbody tr th {\n",
       "        vertical-align: top;\n",
       "    }\n",
       "\n",
       "    .dataframe thead th {\n",
       "        text-align: right;\n",
       "    }\n",
       "</style>\n",
       "<table border=\"1\" class=\"dataframe\">\n",
       "  <thead>\n",
       "    <tr style=\"text-align: right;\">\n",
       "      <th></th>\n",
       "      <th>name</th>\n",
       "      <th>category_list</th>\n",
       "      <th>funding_total_usd</th>\n",
       "      <th>status</th>\n",
       "      <th>country_code</th>\n",
       "      <th>state_code</th>\n",
       "      <th>region</th>\n",
       "      <th>city</th>\n",
       "      <th>funding_rounds</th>\n",
       "      <th>founded_at</th>\n",
       "      <th>first_funding_at</th>\n",
       "      <th>last_funding_at</th>\n",
       "      <th>closed_at</th>\n",
       "      <th>continent</th>\n",
       "      <th>main_category</th>\n",
       "      <th>lifetime</th>\n",
       "      <th>lifetime_years</th>\n",
       "    </tr>\n",
       "  </thead>\n",
       "  <tbody>\n",
       "    <tr>\n",
       "      <th>0</th>\n",
       "      <td>Lunchgate</td>\n",
       "      <td>Online Reservations|Restaurants</td>\n",
       "      <td>828626.0</td>\n",
       "      <td>operating</td>\n",
       "      <td>CHE</td>\n",
       "      <td>25</td>\n",
       "      <td>Zurich</td>\n",
       "      <td>Zürich</td>\n",
       "      <td>2</td>\n",
       "      <td>2009-10-17</td>\n",
       "      <td>2011-05-01</td>\n",
       "      <td>2014-12-01</td>\n",
       "      <td>2018-01-01</td>\n",
       "      <td>Europe</td>\n",
       "      <td>Online Reservations</td>\n",
       "      <td>2998</td>\n",
       "      <td>8</td>\n",
       "    </tr>\n",
       "    <tr>\n",
       "      <th>1</th>\n",
       "      <td>EarLens</td>\n",
       "      <td>Manufacturing|Medical|Medical Devices</td>\n",
       "      <td>42935019.0</td>\n",
       "      <td>operating</td>\n",
       "      <td>USA</td>\n",
       "      <td>CA</td>\n",
       "      <td>SF Bay Area</td>\n",
       "      <td>Redwood City</td>\n",
       "      <td>4</td>\n",
       "      <td>2005-01-01</td>\n",
       "      <td>2010-05-04</td>\n",
       "      <td>2014-02-25</td>\n",
       "      <td>2018-01-01</td>\n",
       "      <td>North America</td>\n",
       "      <td>Manufacturing</td>\n",
       "      <td>4748</td>\n",
       "      <td>13</td>\n",
       "    </tr>\n",
       "    <tr>\n",
       "      <th>2</th>\n",
       "      <td>Reviva Pharmaceuticals</td>\n",
       "      <td>Biotechnology</td>\n",
       "      <td>35456381.0</td>\n",
       "      <td>operating</td>\n",
       "      <td>USA</td>\n",
       "      <td>CA</td>\n",
       "      <td>SF Bay Area</td>\n",
       "      <td>San Jose</td>\n",
       "      <td>3</td>\n",
       "      <td>2006-01-01</td>\n",
       "      <td>2012-08-20</td>\n",
       "      <td>2014-07-02</td>\n",
       "      <td>2018-01-01</td>\n",
       "      <td>North America</td>\n",
       "      <td>Biotechnology</td>\n",
       "      <td>4383</td>\n",
       "      <td>12</td>\n",
       "    </tr>\n",
       "    <tr>\n",
       "      <th>3</th>\n",
       "      <td>Sancilio and Company</td>\n",
       "      <td>Health Care</td>\n",
       "      <td>22250000.0</td>\n",
       "      <td>operating</td>\n",
       "      <td>unknown</td>\n",
       "      <td>unknown</td>\n",
       "      <td>unknown</td>\n",
       "      <td>unknown</td>\n",
       "      <td>3</td>\n",
       "      <td>2004-01-01</td>\n",
       "      <td>2011-09-01</td>\n",
       "      <td>2014-07-18</td>\n",
       "      <td>2018-01-01</td>\n",
       "      <td>Unknown</td>\n",
       "      <td>Health Care</td>\n",
       "      <td>5114</td>\n",
       "      <td>14</td>\n",
       "    </tr>\n",
       "    <tr>\n",
       "      <th>4</th>\n",
       "      <td>WireTough Cylinders</td>\n",
       "      <td>Manufacturing</td>\n",
       "      <td>860000.0</td>\n",
       "      <td>operating</td>\n",
       "      <td>USA</td>\n",
       "      <td>VA</td>\n",
       "      <td>VA - Other</td>\n",
       "      <td>Bristol</td>\n",
       "      <td>1</td>\n",
       "      <td>2010-05-12</td>\n",
       "      <td>2012-02-01</td>\n",
       "      <td>2012-02-01</td>\n",
       "      <td>2018-01-01</td>\n",
       "      <td>North America</td>\n",
       "      <td>Manufacturing</td>\n",
       "      <td>2791</td>\n",
       "      <td>8</td>\n",
       "    </tr>\n",
       "  </tbody>\n",
       "</table>\n",
       "</div>"
      ],
      "text/plain": [
       "                     name                          category_list  \\\n",
       "0               Lunchgate        Online Reservations|Restaurants   \n",
       "1                 EarLens  Manufacturing|Medical|Medical Devices   \n",
       "2  Reviva Pharmaceuticals                          Biotechnology   \n",
       "3    Sancilio and Company                            Health Care   \n",
       "4     WireTough Cylinders                          Manufacturing   \n",
       "\n",
       "   funding_total_usd     status country_code state_code       region  \\\n",
       "0           828626.0  operating          CHE         25       Zurich   \n",
       "1         42935019.0  operating          USA         CA  SF Bay Area   \n",
       "2         35456381.0  operating          USA         CA  SF Bay Area   \n",
       "3         22250000.0  operating      unknown    unknown      unknown   \n",
       "4           860000.0  operating          USA         VA   VA - Other   \n",
       "\n",
       "           city  funding_rounds founded_at first_funding_at last_funding_at  \\\n",
       "0        Zürich               2 2009-10-17       2011-05-01      2014-12-01   \n",
       "1  Redwood City               4 2005-01-01       2010-05-04      2014-02-25   \n",
       "2      San Jose               3 2006-01-01       2012-08-20      2014-07-02   \n",
       "3       unknown               3 2004-01-01       2011-09-01      2014-07-18   \n",
       "4       Bristol               1 2010-05-12       2012-02-01      2012-02-01   \n",
       "\n",
       "   closed_at      continent        main_category  lifetime  lifetime_years  \n",
       "0 2018-01-01         Europe  Online Reservations      2998               8  \n",
       "1 2018-01-01  North America        Manufacturing      4748              13  \n",
       "2 2018-01-01  North America        Biotechnology      4383              12  \n",
       "3 2018-01-01        Unknown          Health Care      5114              14  \n",
       "4 2018-01-01  North America        Manufacturing      2791               8  "
      ]
     },
     "execution_count": 40,
     "metadata": {},
     "output_type": "execute_result"
    }
   ],
   "source": [
    "df_train['lifetime_years'] = df_train['lifetime'].apply(lambda x: round(x / 365))\n",
    "df_train.head()"
   ]
  },
  {
   "cell_type": "code",
   "execution_count": 41,
   "id": "06664241",
   "metadata": {},
   "outputs": [
    {
     "data": {
      "text/html": [
       "<div>\n",
       "<style scoped>\n",
       "    .dataframe tbody tr th:only-of-type {\n",
       "        vertical-align: middle;\n",
       "    }\n",
       "\n",
       "    .dataframe tbody tr th {\n",
       "        vertical-align: top;\n",
       "    }\n",
       "\n",
       "    .dataframe thead th {\n",
       "        text-align: right;\n",
       "    }\n",
       "</style>\n",
       "<table border=\"1\" class=\"dataframe\">\n",
       "  <thead>\n",
       "    <tr style=\"text-align: right;\">\n",
       "      <th></th>\n",
       "      <th>name</th>\n",
       "      <th>category_list</th>\n",
       "      <th>funding_total_usd</th>\n",
       "      <th>country_code</th>\n",
       "      <th>state_code</th>\n",
       "      <th>region</th>\n",
       "      <th>city</th>\n",
       "      <th>funding_rounds</th>\n",
       "      <th>first_funding_at</th>\n",
       "      <th>last_funding_at</th>\n",
       "      <th>lifetime</th>\n",
       "      <th>continent</th>\n",
       "      <th>main_category</th>\n",
       "      <th>lifetime_years</th>\n",
       "    </tr>\n",
       "  </thead>\n",
       "  <tbody>\n",
       "    <tr>\n",
       "      <th>0</th>\n",
       "      <td>Crystalsol</td>\n",
       "      <td>Clean Technology</td>\n",
       "      <td>2.819200e+06</td>\n",
       "      <td>NIC</td>\n",
       "      <td>17</td>\n",
       "      <td>unknown</td>\n",
       "      <td>unknown</td>\n",
       "      <td>1</td>\n",
       "      <td>2009-07-01</td>\n",
       "      <td>2009-07-01</td>\n",
       "      <td>3501</td>\n",
       "      <td>North America</td>\n",
       "      <td>Clean Technology</td>\n",
       "      <td>10</td>\n",
       "    </tr>\n",
       "    <tr>\n",
       "      <th>1</th>\n",
       "      <td>JBI Fish &amp; Wings</td>\n",
       "      <td>Hospitality</td>\n",
       "      <td>8.841858e+05</td>\n",
       "      <td>USA</td>\n",
       "      <td>TN</td>\n",
       "      <td>TN - Other</td>\n",
       "      <td>Humboldt</td>\n",
       "      <td>1</td>\n",
       "      <td>2010-07-28</td>\n",
       "      <td>2010-07-28</td>\n",
       "      <td>2717</td>\n",
       "      <td>North America</td>\n",
       "      <td>Hospitality</td>\n",
       "      <td>7</td>\n",
       "    </tr>\n",
       "    <tr>\n",
       "      <th>2</th>\n",
       "      <td>COINPLUS</td>\n",
       "      <td>Finance</td>\n",
       "      <td>4.282570e+05</td>\n",
       "      <td>LUX</td>\n",
       "      <td>3</td>\n",
       "      <td>Esch-sur-alzette</td>\n",
       "      <td>Esch-sur-alzette</td>\n",
       "      <td>2</td>\n",
       "      <td>2014-05-15</td>\n",
       "      <td>2014-09-18</td>\n",
       "      <td>1295</td>\n",
       "      <td>Europe</td>\n",
       "      <td>Finance</td>\n",
       "      <td>4</td>\n",
       "    </tr>\n",
       "    <tr>\n",
       "      <th>3</th>\n",
       "      <td>Imagine Communications</td>\n",
       "      <td>Software|Video|Video Streaming</td>\n",
       "      <td>3.470000e+07</td>\n",
       "      <td>USA</td>\n",
       "      <td>CA</td>\n",
       "      <td>San Diego</td>\n",
       "      <td>San Diego</td>\n",
       "      <td>4</td>\n",
       "      <td>2005-01-01</td>\n",
       "      <td>2010-04-20</td>\n",
       "      <td>4748</td>\n",
       "      <td>North America</td>\n",
       "      <td>Software</td>\n",
       "      <td>13</td>\n",
       "    </tr>\n",
       "    <tr>\n",
       "      <th>4</th>\n",
       "      <td>DNA13</td>\n",
       "      <td>Software</td>\n",
       "      <td>4.530000e+06</td>\n",
       "      <td>CAN</td>\n",
       "      <td>ON</td>\n",
       "      <td>Ottawa</td>\n",
       "      <td>Ottawa</td>\n",
       "      <td>1</td>\n",
       "      <td>2007-05-08</td>\n",
       "      <td>2007-05-08</td>\n",
       "      <td>6209</td>\n",
       "      <td>North America</td>\n",
       "      <td>Software</td>\n",
       "      <td>17</td>\n",
       "    </tr>\n",
       "  </tbody>\n",
       "</table>\n",
       "</div>"
      ],
      "text/plain": [
       "                     name                   category_list  funding_total_usd  \\\n",
       "0              Crystalsol                Clean Technology       2.819200e+06   \n",
       "1        JBI Fish & Wings                     Hospitality       8.841858e+05   \n",
       "2                COINPLUS                         Finance       4.282570e+05   \n",
       "3  Imagine Communications  Software|Video|Video Streaming       3.470000e+07   \n",
       "4                   DNA13                        Software       4.530000e+06   \n",
       "\n",
       "  country_code state_code            region              city  funding_rounds  \\\n",
       "0          NIC         17           unknown           unknown               1   \n",
       "1          USA         TN        TN - Other          Humboldt               1   \n",
       "2          LUX          3  Esch-sur-alzette  Esch-sur-alzette               2   \n",
       "3          USA         CA         San Diego         San Diego               4   \n",
       "4          CAN         ON            Ottawa            Ottawa               1   \n",
       "\n",
       "  first_funding_at last_funding_at  lifetime      continent     main_category  \\\n",
       "0       2009-07-01      2009-07-01      3501  North America  Clean Technology   \n",
       "1       2010-07-28      2010-07-28      2717  North America       Hospitality   \n",
       "2       2014-05-15      2014-09-18      1295         Europe           Finance   \n",
       "3       2005-01-01      2010-04-20      4748  North America          Software   \n",
       "4       2007-05-08      2007-05-08      6209  North America          Software   \n",
       "\n",
       "   lifetime_years  \n",
       "0              10  \n",
       "1               7  \n",
       "2               4  \n",
       "3              13  \n",
       "4              17  "
      ]
     },
     "execution_count": 41,
     "metadata": {},
     "output_type": "execute_result"
    }
   ],
   "source": [
    "df_test['lifetime_years'] = df_test['lifetime'].apply(lambda x: round(x / 365))\n",
    "df_test.head()"
   ]
  },
  {
   "cell_type": "markdown",
   "id": "8ccbbb7a",
   "metadata": {},
   "source": [
    "Добавим столбец lifetime_category, затем удалим столбец lifetime_years"
   ]
  },
  {
   "cell_type": "code",
   "execution_count": 42,
   "id": "56669dea",
   "metadata": {
    "scrolled": true
   },
   "outputs": [
    {
     "data": {
      "text/plain": [
       "array([ 8, 13, 12, 14,  7, 18, 15,  9, 21,  2,  6,  4,  5,  3, 11, 16, 23,\n",
       "       17, 10, 45, 22, 19,  1, 25, 32, 20, 27, 35, 29, 26, 34, 44, 37, 30,\n",
       "       28, 43, 38, 24, 31, 33, 39, 36,  0, 40, 42, 46, 41, 47, 48],\n",
       "      dtype=int64)"
      ]
     },
     "execution_count": 42,
     "metadata": {},
     "output_type": "execute_result"
    }
   ],
   "source": [
    "df_train['lifetime_years'].unique()"
   ]
  },
  {
   "cell_type": "markdown",
   "id": "75056c58",
   "metadata": {},
   "source": [
    "Выделим следующие категории: \"менее 1 года\", \"1-3 года\", \"3-5 лет\", \"5-7 лет\", \"7-10 лет\", \"10-20 лет\" и \"более 20 лет\""
   ]
  },
  {
   "cell_type": "code",
   "execution_count": 43,
   "id": "f33a4c79",
   "metadata": {
    "scrolled": true
   },
   "outputs": [],
   "source": [
    "df_train.loc[:, 'lifetime_category'] = df_train['lifetime_years'].apply(category_lifetime)\n",
    "df_test.loc[:, 'lifetime_category'] = df_test['lifetime_years'].apply(category_lifetime)"
   ]
  },
  {
   "cell_type": "code",
   "execution_count": 44,
   "id": "408af3cb",
   "metadata": {},
   "outputs": [],
   "source": [
    "df_train['funding_delta_years'] = round(((df_train.last_funding_at - df_train.first_funding_at).dt.days)/365, 0)"
   ]
  },
  {
   "cell_type": "code",
   "execution_count": 45,
   "id": "3ab56e33",
   "metadata": {},
   "outputs": [],
   "source": [
    "df_test['funding_delta_years'] = round(((df_test.last_funding_at - df_test.first_funding_at).dt.days)/365, 0)"
   ]
  },
  {
   "cell_type": "markdown",
   "id": "130ada01",
   "metadata": {},
   "source": [
    "Добавим столбец first_funding_at_year и founded_at_year"
   ]
  },
  {
   "cell_type": "code",
   "execution_count": 46,
   "id": "283bf0c1",
   "metadata": {
    "scrolled": true
   },
   "outputs": [
    {
     "data": {
      "text/html": [
       "<div>\n",
       "<style scoped>\n",
       "    .dataframe tbody tr th:only-of-type {\n",
       "        vertical-align: middle;\n",
       "    }\n",
       "\n",
       "    .dataframe tbody tr th {\n",
       "        vertical-align: top;\n",
       "    }\n",
       "\n",
       "    .dataframe thead th {\n",
       "        text-align: right;\n",
       "    }\n",
       "</style>\n",
       "<table border=\"1\" class=\"dataframe\">\n",
       "  <thead>\n",
       "    <tr style=\"text-align: right;\">\n",
       "      <th></th>\n",
       "      <th>name</th>\n",
       "      <th>category_list</th>\n",
       "      <th>funding_total_usd</th>\n",
       "      <th>status</th>\n",
       "      <th>country_code</th>\n",
       "      <th>state_code</th>\n",
       "      <th>region</th>\n",
       "      <th>city</th>\n",
       "      <th>funding_rounds</th>\n",
       "      <th>founded_at</th>\n",
       "      <th>first_funding_at</th>\n",
       "      <th>last_funding_at</th>\n",
       "      <th>closed_at</th>\n",
       "      <th>continent</th>\n",
       "      <th>main_category</th>\n",
       "      <th>lifetime</th>\n",
       "      <th>lifetime_years</th>\n",
       "      <th>lifetime_category</th>\n",
       "      <th>funding_delta_years</th>\n",
       "      <th>first_funding_at_year</th>\n",
       "      <th>founded_at_year</th>\n",
       "    </tr>\n",
       "  </thead>\n",
       "  <tbody>\n",
       "    <tr>\n",
       "      <th>23243</th>\n",
       "      <td>Device Innovation Group</td>\n",
       "      <td>Biotechnology</td>\n",
       "      <td>4000000.0</td>\n",
       "      <td>operating</td>\n",
       "      <td>USA</td>\n",
       "      <td>TN</td>\n",
       "      <td>Nashville</td>\n",
       "      <td>Nashville</td>\n",
       "      <td>1</td>\n",
       "      <td>2012-01-01</td>\n",
       "      <td>2011-02-14</td>\n",
       "      <td>2011-02-14</td>\n",
       "      <td>2018-01-01</td>\n",
       "      <td>North America</td>\n",
       "      <td>Biotechnology</td>\n",
       "      <td>2192</td>\n",
       "      <td>6</td>\n",
       "      <td>5-7 лет</td>\n",
       "      <td>0.0</td>\n",
       "      <td>2011</td>\n",
       "      <td>2012</td>\n",
       "    </tr>\n",
       "    <tr>\n",
       "      <th>21664</th>\n",
       "      <td>API Cryptek</td>\n",
       "      <td>Software</td>\n",
       "      <td>17200000.0</td>\n",
       "      <td>operating</td>\n",
       "      <td>USA</td>\n",
       "      <td>VA</td>\n",
       "      <td>Washington, D.C.</td>\n",
       "      <td>Sterling</td>\n",
       "      <td>2</td>\n",
       "      <td>1986-01-01</td>\n",
       "      <td>2003-02-07</td>\n",
       "      <td>2007-03-01</td>\n",
       "      <td>2018-01-01</td>\n",
       "      <td>North America</td>\n",
       "      <td>Software</td>\n",
       "      <td>11688</td>\n",
       "      <td>32</td>\n",
       "      <td>более 20 лет</td>\n",
       "      <td>4.0</td>\n",
       "      <td>2003</td>\n",
       "      <td>1986</td>\n",
       "    </tr>\n",
       "    <tr>\n",
       "      <th>15638</th>\n",
       "      <td>HealthFleet.com</td>\n",
       "      <td>Biotechnology</td>\n",
       "      <td>723723.0</td>\n",
       "      <td>operating</td>\n",
       "      <td>USA</td>\n",
       "      <td>CT</td>\n",
       "      <td>Hartford</td>\n",
       "      <td>Norwalk</td>\n",
       "      <td>1</td>\n",
       "      <td>2009-01-01</td>\n",
       "      <td>2013-05-06</td>\n",
       "      <td>2013-05-06</td>\n",
       "      <td>2018-01-01</td>\n",
       "      <td>North America</td>\n",
       "      <td>Biotechnology</td>\n",
       "      <td>3287</td>\n",
       "      <td>9</td>\n",
       "      <td>7-10 лет</td>\n",
       "      <td>0.0</td>\n",
       "      <td>2013</td>\n",
       "      <td>2009</td>\n",
       "    </tr>\n",
       "    <tr>\n",
       "      <th>48967</th>\n",
       "      <td>CaptureProof</td>\n",
       "      <td>Health Care|Health Care Information Technology...</td>\n",
       "      <td>1200000.0</td>\n",
       "      <td>operating</td>\n",
       "      <td>USA</td>\n",
       "      <td>CA</td>\n",
       "      <td>SF Bay Area</td>\n",
       "      <td>San Francisco</td>\n",
       "      <td>2</td>\n",
       "      <td>2012-02-01</td>\n",
       "      <td>2013-05-28</td>\n",
       "      <td>2013-10-01</td>\n",
       "      <td>2018-01-01</td>\n",
       "      <td>North America</td>\n",
       "      <td>Health Care</td>\n",
       "      <td>2161</td>\n",
       "      <td>6</td>\n",
       "      <td>5-7 лет</td>\n",
       "      <td>0.0</td>\n",
       "      <td>2013</td>\n",
       "      <td>2012</td>\n",
       "    </tr>\n",
       "    <tr>\n",
       "      <th>45213</th>\n",
       "      <td>Lightswitch</td>\n",
       "      <td>Advertising</td>\n",
       "      <td>1250000.0</td>\n",
       "      <td>operating</td>\n",
       "      <td>USA</td>\n",
       "      <td>IL</td>\n",
       "      <td>Chicago</td>\n",
       "      <td>Chicago</td>\n",
       "      <td>1</td>\n",
       "      <td>2010-07-28</td>\n",
       "      <td>2011-12-01</td>\n",
       "      <td>2011-12-01</td>\n",
       "      <td>2018-01-01</td>\n",
       "      <td>North America</td>\n",
       "      <td>Advertising</td>\n",
       "      <td>2714</td>\n",
       "      <td>7</td>\n",
       "      <td>5-7 лет</td>\n",
       "      <td>0.0</td>\n",
       "      <td>2011</td>\n",
       "      <td>2010</td>\n",
       "    </tr>\n",
       "  </tbody>\n",
       "</table>\n",
       "</div>"
      ],
      "text/plain": [
       "                          name  \\\n",
       "23243  Device Innovation Group   \n",
       "21664              API Cryptek   \n",
       "15638          HealthFleet.com   \n",
       "48967             CaptureProof   \n",
       "45213              Lightswitch   \n",
       "\n",
       "                                           category_list  funding_total_usd  \\\n",
       "23243                                      Biotechnology          4000000.0   \n",
       "21664                                           Software         17200000.0   \n",
       "15638                                      Biotechnology           723723.0   \n",
       "48967  Health Care|Health Care Information Technology...          1200000.0   \n",
       "45213                                        Advertising          1250000.0   \n",
       "\n",
       "          status country_code state_code            region           city  \\\n",
       "23243  operating          USA         TN         Nashville      Nashville   \n",
       "21664  operating          USA         VA  Washington, D.C.       Sterling   \n",
       "15638  operating          USA         CT          Hartford        Norwalk   \n",
       "48967  operating          USA         CA       SF Bay Area  San Francisco   \n",
       "45213  operating          USA         IL           Chicago        Chicago   \n",
       "\n",
       "       funding_rounds founded_at first_funding_at last_funding_at  closed_at  \\\n",
       "23243               1 2012-01-01       2011-02-14      2011-02-14 2018-01-01   \n",
       "21664               2 1986-01-01       2003-02-07      2007-03-01 2018-01-01   \n",
       "15638               1 2009-01-01       2013-05-06      2013-05-06 2018-01-01   \n",
       "48967               2 2012-02-01       2013-05-28      2013-10-01 2018-01-01   \n",
       "45213               1 2010-07-28       2011-12-01      2011-12-01 2018-01-01   \n",
       "\n",
       "           continent  main_category  lifetime  lifetime_years  \\\n",
       "23243  North America  Biotechnology      2192               6   \n",
       "21664  North America       Software     11688              32   \n",
       "15638  North America  Biotechnology      3287               9   \n",
       "48967  North America    Health Care      2161               6   \n",
       "45213  North America    Advertising      2714               7   \n",
       "\n",
       "      lifetime_category  funding_delta_years  first_funding_at_year  \\\n",
       "23243           5-7 лет                  0.0                   2011   \n",
       "21664      более 20 лет                  4.0                   2003   \n",
       "15638          7-10 лет                  0.0                   2013   \n",
       "48967           5-7 лет                  0.0                   2013   \n",
       "45213           5-7 лет                  0.0                   2011   \n",
       "\n",
       "       founded_at_year  \n",
       "23243             2012  \n",
       "21664             1986  \n",
       "15638             2009  \n",
       "48967             2012  \n",
       "45213             2010  "
      ]
     },
     "execution_count": 46,
     "metadata": {},
     "output_type": "execute_result"
    }
   ],
   "source": [
    "df_train['first_funding_at_year'] = df_train.first_funding_at.dt.year\n",
    "df_train['founded_at_year'] = df_train.founded_at.dt.year.astype('int64')\n",
    "df_train.sample(5)"
   ]
  },
  {
   "cell_type": "code",
   "execution_count": 47,
   "id": "5d81e0af",
   "metadata": {},
   "outputs": [
    {
     "data": {
      "text/html": [
       "<div>\n",
       "<style scoped>\n",
       "    .dataframe tbody tr th:only-of-type {\n",
       "        vertical-align: middle;\n",
       "    }\n",
       "\n",
       "    .dataframe tbody tr th {\n",
       "        vertical-align: top;\n",
       "    }\n",
       "\n",
       "    .dataframe thead th {\n",
       "        text-align: right;\n",
       "    }\n",
       "</style>\n",
       "<table border=\"1\" class=\"dataframe\">\n",
       "  <thead>\n",
       "    <tr style=\"text-align: right;\">\n",
       "      <th></th>\n",
       "      <th>name</th>\n",
       "      <th>category_list</th>\n",
       "      <th>funding_total_usd</th>\n",
       "      <th>country_code</th>\n",
       "      <th>state_code</th>\n",
       "      <th>region</th>\n",
       "      <th>city</th>\n",
       "      <th>funding_rounds</th>\n",
       "      <th>first_funding_at</th>\n",
       "      <th>last_funding_at</th>\n",
       "      <th>lifetime</th>\n",
       "      <th>continent</th>\n",
       "      <th>main_category</th>\n",
       "      <th>lifetime_years</th>\n",
       "      <th>lifetime_category</th>\n",
       "      <th>funding_delta_years</th>\n",
       "      <th>first_funding_at_year</th>\n",
       "    </tr>\n",
       "  </thead>\n",
       "  <tbody>\n",
       "    <tr>\n",
       "      <th>3789</th>\n",
       "      <td>Kingfish Group</td>\n",
       "      <td>Finance</td>\n",
       "      <td>884185.791031</td>\n",
       "      <td>USA</td>\n",
       "      <td>CA</td>\n",
       "      <td>SF Bay Area</td>\n",
       "      <td>Foster City</td>\n",
       "      <td>1</td>\n",
       "      <td>2006-03-01</td>\n",
       "      <td>2006-03-01</td>\n",
       "      <td>5114</td>\n",
       "      <td>North America</td>\n",
       "      <td>Finance</td>\n",
       "      <td>14</td>\n",
       "      <td>10-20 лет</td>\n",
       "      <td>0.0</td>\n",
       "      <td>2006</td>\n",
       "    </tr>\n",
       "    <tr>\n",
       "      <th>10013</th>\n",
       "      <td>Iconic Translation Machines</td>\n",
       "      <td>Intellectual Property|Local|SaaS|Software|Tran...</td>\n",
       "      <td>438032.000000</td>\n",
       "      <td>IRL</td>\n",
       "      <td>7</td>\n",
       "      <td>Dublin</td>\n",
       "      <td>Dublin</td>\n",
       "      <td>1</td>\n",
       "      <td>2015-07-23</td>\n",
       "      <td>2015-07-23</td>\n",
       "      <td>1382</td>\n",
       "      <td>Europe</td>\n",
       "      <td>Intellectual Property</td>\n",
       "      <td>4</td>\n",
       "      <td>3-5 лет</td>\n",
       "      <td>0.0</td>\n",
       "      <td>2015</td>\n",
       "    </tr>\n",
       "    <tr>\n",
       "      <th>12855</th>\n",
       "      <td>Varsity Views</td>\n",
       "      <td>Internet</td>\n",
       "      <td>500000.000000</td>\n",
       "      <td>USA</td>\n",
       "      <td>IL</td>\n",
       "      <td>Chicago</td>\n",
       "      <td>Chicago</td>\n",
       "      <td>1</td>\n",
       "      <td>2015-08-28</td>\n",
       "      <td>2015-08-28</td>\n",
       "      <td>1461</td>\n",
       "      <td>North America</td>\n",
       "      <td>Internet</td>\n",
       "      <td>4</td>\n",
       "      <td>3-5 лет</td>\n",
       "      <td>0.0</td>\n",
       "      <td>2015</td>\n",
       "    </tr>\n",
       "    <tr>\n",
       "      <th>11281</th>\n",
       "      <td>Green Man Gaming</td>\n",
       "      <td>E-Commerce|Games|Social Commerce|Social Media ...</td>\n",
       "      <td>147159.000000</td>\n",
       "      <td>GBR</td>\n",
       "      <td>H9</td>\n",
       "      <td>London</td>\n",
       "      <td>London</td>\n",
       "      <td>1</td>\n",
       "      <td>2011-08-01</td>\n",
       "      <td>2011-08-01</td>\n",
       "      <td>3287</td>\n",
       "      <td>Europe</td>\n",
       "      <td>E-Commerce</td>\n",
       "      <td>9</td>\n",
       "      <td>7-10 лет</td>\n",
       "      <td>0.0</td>\n",
       "      <td>2011</td>\n",
       "    </tr>\n",
       "    <tr>\n",
       "      <th>8219</th>\n",
       "      <td>MangoCoinz</td>\n",
       "      <td>Apps</td>\n",
       "      <td>884185.791031</td>\n",
       "      <td>unknown</td>\n",
       "      <td>unknown</td>\n",
       "      <td>unknown</td>\n",
       "      <td>unknown</td>\n",
       "      <td>1</td>\n",
       "      <td>2015-03-01</td>\n",
       "      <td>2015-03-01</td>\n",
       "      <td>1291</td>\n",
       "      <td>Unknown</td>\n",
       "      <td>Apps</td>\n",
       "      <td>4</td>\n",
       "      <td>3-5 лет</td>\n",
       "      <td>0.0</td>\n",
       "      <td>2015</td>\n",
       "    </tr>\n",
       "  </tbody>\n",
       "</table>\n",
       "</div>"
      ],
      "text/plain": [
       "                              name  \\\n",
       "3789                Kingfish Group   \n",
       "10013  Iconic Translation Machines   \n",
       "12855                Varsity Views   \n",
       "11281             Green Man Gaming   \n",
       "8219                    MangoCoinz   \n",
       "\n",
       "                                           category_list  funding_total_usd  \\\n",
       "3789                                             Finance      884185.791031   \n",
       "10013  Intellectual Property|Local|SaaS|Software|Tran...      438032.000000   \n",
       "12855                                           Internet      500000.000000   \n",
       "11281  E-Commerce|Games|Social Commerce|Social Media ...      147159.000000   \n",
       "8219                                                Apps      884185.791031   \n",
       "\n",
       "      country_code state_code       region         city  funding_rounds  \\\n",
       "3789           USA         CA  SF Bay Area  Foster City               1   \n",
       "10013          IRL          7       Dublin       Dublin               1   \n",
       "12855          USA         IL      Chicago      Chicago               1   \n",
       "11281          GBR         H9       London       London               1   \n",
       "8219       unknown    unknown      unknown      unknown               1   \n",
       "\n",
       "      first_funding_at last_funding_at  lifetime      continent  \\\n",
       "3789        2006-03-01      2006-03-01      5114  North America   \n",
       "10013       2015-07-23      2015-07-23      1382         Europe   \n",
       "12855       2015-08-28      2015-08-28      1461  North America   \n",
       "11281       2011-08-01      2011-08-01      3287         Europe   \n",
       "8219        2015-03-01      2015-03-01      1291        Unknown   \n",
       "\n",
       "               main_category  lifetime_years lifetime_category  \\\n",
       "3789                 Finance              14         10-20 лет   \n",
       "10013  Intellectual Property               4           3-5 лет   \n",
       "12855               Internet               4           3-5 лет   \n",
       "11281             E-Commerce               9          7-10 лет   \n",
       "8219                    Apps               4           3-5 лет   \n",
       "\n",
       "       funding_delta_years  first_funding_at_year  \n",
       "3789                   0.0                   2006  \n",
       "10013                  0.0                   2015  \n",
       "12855                  0.0                   2015  \n",
       "11281                  0.0                   2011  \n",
       "8219                   0.0                   2015  "
      ]
     },
     "execution_count": 47,
     "metadata": {},
     "output_type": "execute_result"
    }
   ],
   "source": [
    "df_test['first_funding_at_year'] = df_test.first_funding_at.dt.year.astype('int64')\n",
    "df_test.sample(5)"
   ]
  },
  {
   "cell_type": "markdown",
   "id": "7cc3898d",
   "metadata": {},
   "source": [
    "Теперь сравним в тренировочном датасете, есть ли ошибки в датах. Например, не перепутаныли дата основания и первого финансирования"
   ]
  },
  {
   "cell_type": "code",
   "execution_count": 48,
   "id": "aa12c117",
   "metadata": {
    "scrolled": true
   },
   "outputs": [
    {
     "data": {
      "text/plain": [
       "2934"
      ]
     },
     "execution_count": 48,
     "metadata": {},
     "output_type": "execute_result"
    }
   ],
   "source": [
    "len(df_train[df_train['first_funding_at'] < df_train['founded_at']])"
   ]
  },
  {
   "cell_type": "markdown",
   "id": "27386f3e",
   "metadata": {},
   "source": [
    "У нас есть 2900 строк, в которых дата первого раунда финансирования раньше даты основания. Не будем трогать эти данные, лучше уточнить у заказчиков, в чем именно причина таких несостыковок - человеческий фактор, техническая ошибка или ошибка в юридических документах об основании стартапов"
   ]
  },
  {
   "cell_type": "markdown",
   "id": "4c675296",
   "metadata": {},
   "source": [
    "<b>Вывод</b>\n",
    "<br>На этапе предобработки данных были выполнены следующие действия:\n",
    "<br> Выполнен поиск явных дубликатов, 10 обнаружилось в тренировочном - их удалили, 1 в тестовом оставили без изменений. \n",
    "<br> Посчитали количество уникальных значений категориальных переменных, сделали вывод, что проверить такое огромное количество записей на наличие неявных дубликатов невозножно. Добавили столбец main_category укрупнения категорий стартапов для дальнейшей исследовательской работы и предсказания\n",
    "<br>Для тренировочного и тестового датасетов добавила принадлежность к континенту, добавила столбец lifetime_years для более удобной работы с жизнью стартапов\n",
    "<br> Была проведена проверка дат основания и первого раунда финансирования, в которой нашли 2934 строки с перепутанными датами. Оставили данные без изменений\n",
    "<br> Добавили новые признаки - год проведения первого раунда финансирования, разница в годах между первым и последним раундом финансирования"
   ]
  },
  {
   "cell_type": "markdown",
   "id": "4d627139",
   "metadata": {},
   "source": [
    "### Исследовательский анализ данных"
   ]
  },
  {
   "cell_type": "markdown",
   "id": "99782103",
   "metadata": {},
   "source": [
    "Рассмотрим каждый признак таблиц в отдельности на наличие выбросов и аномалий, и как распределяются данные на графиках. Начнем с таблицы df_train"
   ]
  },
  {
   "cell_type": "markdown",
   "id": "f70b958c",
   "metadata": {},
   "source": [
    "Анализ количественных переменных"
   ]
  },
  {
   "cell_type": "code",
   "execution_count": 49,
   "id": "f7e6c5e9",
   "metadata": {
    "scrolled": true
   },
   "outputs": [
    {
     "name": "stdout",
     "output_type": "stream",
     "text": [
      "Статистический анализ столбца: funding_total_usd\n",
      "count    5.250600e+04\n",
      "mean     1.498083e+07\n",
      "std      1.683772e+08\n",
      "min      1.000000e+00\n",
      "25%      5.288528e+05\n",
      "50%      1.022361e+06\n",
      "75%      7.000000e+06\n",
      "max      3.007950e+10\n",
      "Name: funding_total_usd, dtype: float64\n"
     ]
    },
    {
     "data": {
      "text/plain": [
       "<Figure size 1000x10000 with 0 Axes>"
      ]
     },
     "metadata": {},
     "output_type": "display_data"
    },
    {
     "data": {
      "image/png": "[encoded data removed]",
      "text/plain": [
       "<Figure size 640x480 with 2 Axes>"
      ]
     },
     "metadata": {},
     "output_type": "display_data"
    },
    {
     "name": "stdout",
     "output_type": "stream",
     "text": [
      "Статистический анализ столбца: funding_rounds\n",
      "count    52506.00\n",
      "mean         1.74\n",
      "std          1.37\n",
      "min          1.00\n",
      "25%          1.00\n",
      "50%          1.00\n",
      "75%          2.00\n",
      "max         19.00\n",
      "Name: funding_rounds, dtype: float64\n"
     ]
    },
    {
     "data": {
      "image/png": "[encoded data removed]",
      "text/plain": [
       "<Figure size 640x480 with 2 Axes>"
      ]
     },
     "metadata": {},
     "output_type": "display_data"
    },
    {
     "name": "stdout",
     "output_type": "stream",
     "text": [
      "Статистический анализ столбца: lifetime\n",
      "count    52506.00\n",
      "mean      3141.10\n",
      "std       2147.92\n",
      "min         19.00\n",
      "25%       1739.00\n",
      "50%       2557.00\n",
      "75%       4018.00\n",
      "max      17378.00\n",
      "Name: lifetime, dtype: float64\n"
     ]
    },
    {
     "data": {
      "image/png": "[encoded data removed]",
      "text/plain": [
       "<Figure size 640x480 with 2 Axes>"
      ]
     },
     "metadata": {},
     "output_type": "display_data"
    },
    {
     "name": "stdout",
     "output_type": "stream",
     "text": [
      "Статистический анализ столбца: funding_delta_years\n",
      "count    52506.00\n",
      "mean         0.95\n",
      "std          1.89\n",
      "min          0.00\n",
      "25%          0.00\n",
      "50%          0.00\n",
      "75%          1.00\n",
      "max         30.00\n",
      "Name: funding_delta_years, dtype: float64\n"
     ]
    },
    {
     "data": {
      "image/png": "[encoded data removed]",
      "text/plain": [
       "<Figure size 640x480 with 2 Axes>"
      ]
     },
     "metadata": {},
     "output_type": "display_data"
    },
    {
     "name": "stdout",
     "output_type": "stream",
     "text": [
      "Статистический анализ столбца: founded_at_year\n",
      "count    52506.00\n",
      "mean      2008.56\n",
      "std          5.76\n",
      "min       1970.00\n",
      "25%       2006.00\n",
      "50%       2010.00\n",
      "75%       2013.00\n",
      "max       2016.00\n",
      "Name: founded_at_year, dtype: float64\n"
     ]
    },
    {
     "data": {
      "image/png": "[encoded data removed]",
      "text/plain": [
       "<Figure size 640x480 with 2 Axes>"
      ]
     },
     "metadata": {},
     "output_type": "display_data"
    }
   ],
   "source": [
    "temp = df_train.copy()\n",
    "temp = temp.drop('lifetime_years', axis=1)\n",
    "eda_quantity(temp, 30)"
   ]
  },
  {
   "cell_type": "markdown",
   "id": "d91c94ad",
   "metadata": {},
   "source": [
    "В столбце funding_total_usd боксплот показывает аномалию в 30 миллиардов и очень много выбросов, которых не так много в датасете, отсечем из датасета все выбосы выше 200 млн и снова построим график \n",
    "<br>Анализ столбца funding_rounds показывает нам, что в основном был только один раунд финансирования, максимально - 19\n",
    "<br>Анализируя столбец lifetime, мы видим, что самый короткий срок жизни стартапа был 19 дней, медиана - 2557 дней(7 лет), среднее - 3141 дней\n",
    "<br> В столбце funding_delta_years мы видим, что минимум и медиана совпадают и равны 0 - ото объяснимо тем, что у многих стартапов был всего 1 раунд финансирования\n",
    "<br>Самый ранний год основания стартапа - 1970й, медиана - 2010 год, самый поздний год основания стартапа - 2016"
   ]
  },
  {
   "cell_type": "code",
   "execution_count": 50,
   "id": "929b2b1c",
   "metadata": {},
   "outputs": [],
   "source": [
    "df_train = df_train.query('funding_total_usd < 200000000')"
   ]
  },
  {
   "cell_type": "code",
   "execution_count": 51,
   "id": "bf89b5ef",
   "metadata": {},
   "outputs": [
    {
     "name": "stdout",
     "output_type": "stream",
     "text": [
      "Статистический анализ столбца: funding_total_usd\n",
      "count    5.200900e+04\n",
      "mean     9.135128e+06\n",
      "std      2.156959e+07\n",
      "min      1.000000e+00\n",
      "25%      5.100000e+05\n",
      "50%      1.000000e+06\n",
      "75%      6.500000e+06\n",
      "max      1.997624e+08\n",
      "Name: funding_total_usd, dtype: float64\n"
     ]
    },
    {
     "data": {
      "image/png": "[encoded data removed]",
      "text/plain": [
       "<Figure size 640x480 with 2 Axes>"
      ]
     },
     "metadata": {},
     "output_type": "display_data"
    }
   ],
   "source": [
    "print(f'Статистический анализ столбца: funding_total_usd')\n",
    "print(df_train['funding_total_usd'].describe().round(2))\n",
    "        \n",
    "median_value = df_train['funding_total_usd'].median()\n",
    "mean_value = df_train['funding_total_usd'].mean()\n",
    "    \n",
    "f, (ax_hist, ax_box) = plt.subplots(1, 2)\n",
    "sns.histplot(data=df_train, x='funding_total_usd', bins=20, ax=ax_hist)\n",
    "ax_hist.set(xlabel='funding_total_usd', ylabel='Количество', title='funding_total_usd')\n",
    "ax_hist.axvline(median_value, color='r', linestyle='--', label=f'Median: {median_value:.2f}')\n",
    "ax_hist.axvline(mean_value, color='g', linestyle='-', label=f'Mean: {mean_value:.2f}')\n",
    "ax_hist.legend()\n",
    "\n",
    "sns.boxplot(y=df_train['funding_total_usd'], ax=ax_box)\n",
    "ax_box.set(ylabel='funding_total_usd', title='funding_total_usd')\n",
    "      \n",
    "plt.subplots_adjust(hspace=0.3, wspace=0.3)\n",
    "plt.tight_layout()\n",
    "plt.show();"
   ]
  },
  {
   "cell_type": "code",
   "execution_count": 52,
   "id": "66c912d2",
   "metadata": {},
   "outputs": [
    {
     "data": {
      "text/plain": [
       "52009"
      ]
     },
     "execution_count": 52,
     "metadata": {},
     "output_type": "execute_result"
    }
   ],
   "source": [
    "len(df_train['funding_total_usd'])"
   ]
  },
  {
   "cell_type": "markdown",
   "id": "8423ab7a",
   "metadata": {},
   "source": [
    "Количество данных ненамного уменьшилось. Проведем анализ категориальных данных"
   ]
  },
  {
   "cell_type": "code",
   "execution_count": 53,
   "id": "e2a36cb3",
   "metadata": {},
   "outputs": [
    {
     "name": "stdout",
     "output_type": "stream",
     "text": [
      "Значения столбца status \n",
      "            Количество      Доля\n",
      "status                         \n",
      "closed           4897  0.094157\n",
      "operating       47112  0.905843 \n",
      "\n",
      "Статистический анализ столбца status \n",
      "          Количество      Доля\n",
      "count      2.000000  2.000000\n",
      "mean   26004.500000  0.500000\n",
      "std    29850.512768  0.573949\n",
      "min     4897.000000  0.094157\n",
      "25%    15450.750000  0.297078\n",
      "50%    26004.500000  0.500000\n",
      "75%    36558.250000  0.702922\n",
      "max    47112.000000  0.905843\n"
     ]
    },
    {
     "data": {
      "image/png": "[encoded data removed]",
      "text/plain": [
       "<Figure size 1000x500 with 1 Axes>"
      ]
     },
     "metadata": {},
     "output_type": "display_data"
    },
    {
     "name": "stdout",
     "output_type": "stream",
     "text": [
      "Значения столбца continent \n",
      "                Количество      Доля\n",
      "continent                          \n",
      "Africa                231  0.004442\n",
      "Oceania               453  0.008710\n",
      "South America         864  0.016613\n",
      "Asia                 5010  0.096329\n",
      "Unknown              5509  0.105924\n",
      "Europe               8856  0.170278\n",
      "North America       31086  0.597704 \n",
      "\n",
      "Статистический анализ столбца continent \n",
      "          Количество      Доля\n",
      "count      7.000000  7.000000\n",
      "mean    7429.857143  0.142857\n",
      "std    10914.844165  0.209865\n",
      "min      231.000000  0.004442\n",
      "25%      658.500000  0.012661\n",
      "50%     5010.000000  0.096329\n",
      "75%     7182.500000  0.138101\n",
      "max    31086.000000  0.597704\n"
     ]
    },
    {
     "data": {
      "image/png": "[encoded data removed]",
      "text/plain": [
       "<Figure size 640x480 with 1 Axes>"
      ]
     },
     "metadata": {},
     "output_type": "display_data"
    },
    {
     "name": "stdout",
     "output_type": "stream",
     "text": [
      "Значения столбца lifetime_category \n",
      "                    Количество      Доля\n",
      "lifetime_category                      \n",
      "менее 1 года              493  0.009479\n",
      "более 20 лет             2152  0.041377\n",
      "1-3 года                 5220  0.100367\n",
      "7-10 лет                 9245  0.177758\n",
      "5-7 лет                 10914  0.209848\n",
      "10-20 лет               11372  0.218654\n",
      "3-5 лет                 12613  0.242516 \n",
      "\n",
      "Статистический анализ столбца lifetime_category \n",
      "          Количество      Доля\n",
      "count      7.000000  7.000000\n",
      "mean    7429.857143  0.142857\n",
      "std     4807.956719  0.092445\n",
      "min      493.000000  0.009479\n",
      "25%     3686.000000  0.070872\n",
      "50%     9245.000000  0.177758\n",
      "75%    11143.000000  0.214251\n",
      "max    12613.000000  0.242516\n"
     ]
    },
    {
     "data": {
      "image/png": "[encoded data removed]",
      "text/plain": [
       "<Figure size 640x480 with 1 Axes>"
      ]
     },
     "metadata": {},
     "output_type": "display_data"
    }
   ],
   "source": [
    "columns_to_drop = ['name', 'category_list', 'country_code', 'state_code', 'region', 'city', 'main_category']\n",
    "temp = df_train.copy()\n",
    "temp = temp.drop(columns_to_drop, axis=1)\n",
    "eda_quality(temp)"
   ]
  },
  {
   "cell_type": "markdown",
   "id": "8c2302e5",
   "metadata": {},
   "source": [
    "Почти 91% стартапов были открыты на момент выгрузки данных, Большая часть стартапов были открыты в Северной Америке, на втором месте - Европа, на последнем - Африка"
   ]
  },
  {
   "cell_type": "markdown",
   "id": "35d2f845",
   "metadata": {},
   "source": [
    "Данные, которые имеют слишком много уникальных значений: 'country_code', 'main_category', мы проанализируем отдельно, выделив топ-10 наиболее часто выстречающихся. 'state_code', 'region', 'city' мы не будем анализировать, тк было слишком много данных, искуственно заполненных заглушкой 'unknown'"
   ]
  },
  {
   "cell_type": "code",
   "execution_count": 54,
   "id": "bc3894e9",
   "metadata": {},
   "outputs": [
    {
     "data": {
      "image/png": "[encoded data removed]",
      "text/plain": [
       "<Figure size 1000x500 with 1 Axes>"
      ]
     },
     "metadata": {},
     "output_type": "display_data"
    },
    {
     "data": {
      "image/png": "[encoded data removed]",
      "text/plain": [
       "<Figure size 1000x500 with 1 Axes>"
      ]
     },
     "metadata": {},
     "output_type": "display_data"
    }
   ],
   "source": [
    "temp = df_train[['country_code', 'main_category']]\n",
    "#print(temp.columns)\n",
    "eda_top_categories(temp, 10)"
   ]
  },
  {
   "cell_type": "markdown",
   "id": "ac2779ac",
   "metadata": {},
   "source": [
    "Большая часть стартапов основана в США, на втором месте - Великоблитания. Большая доля стартапов в датасете, у которых не указана страна\n",
    "<br> Большая часть стартапов зарегистрирована в штате Калифорния, у чуть меньшего количества стартапов штат не указан. Основные категории деятельности стартапов: Biotechnlogy, Software, E-Commerce."
   ]
  },
  {
   "cell_type": "markdown",
   "id": "94e425bc",
   "metadata": {},
   "source": [
    "Проанализируем таким же образом датасет df_test"
   ]
  },
  {
   "cell_type": "code",
   "execution_count": null,
   "id": "40f3b47d",
   "metadata": {},
   "outputs": [
    {
     "name": "stdout",
     "output_type": "stream",
     "text": [
      "Статистический анализ столбца: funding_total_usd\n",
      "count    1.312500e+04\n",
      "mean     1.354433e+07\n",
      "std      8.285765e+07\n",
      "min      1.000000e+00\n",
      "25%      5.010000e+05\n",
      "50%      1.000000e+06\n",
      "75%      6.840683e+06\n",
      "max      4.715000e+09\n",
      "Name: funding_total_usd, dtype: float64\n"
     ]
    },
    {
     "data": {
      "text/plain": [
       "<Figure size 1000x10000 with 0 Axes>"
      ]
     },
     "metadata": {},
     "output_type": "display_data"
    }
   ],
   "source": [
    "temp = df_test.copy()\n",
    "temp = temp.drop('lifetime_years', axis=1)\n",
    "eda_quantity(temp, 30)"
   ]
  },
  {
   "cell_type": "markdown",
   "id": "16a6ca57",
   "metadata": {},
   "source": [
    "Здесь мы видим данные, похожие на те, что были в предыдущем датасете. Столбец funding_total_usd не имеет такоц аномалии, что в train_df, но мы видим выбросы, которые имеют место быть. Среднее - 13544334, медиана - 1000000\n",
    "<br>Количество раундов инвестирования также в основном равно 1, максимальное - 15 раундов\n",
    "<br> lifetime показывает среднюю продолжительность жизни 3097 дней, медиана - 2526, что практически идентично данным из df_train\n",
    "<br>Самый ранний год основания стартапа - 1973й, медиана - 2012 год, самый поздний год основания стартапа - 2015"
   ]
  },
  {
   "cell_type": "markdown",
   "id": "5fb29da1",
   "metadata": {},
   "source": [
    "Рассмотрим категориальные переменные"
   ]
  },
  {
   "cell_type": "code",
   "execution_count": null,
   "id": "dc2d4022",
   "metadata": {},
   "outputs": [],
   "source": [
    "columns_to_drop = ['name', 'category_list', 'country_code', 'state_code', 'region', 'city', 'main_category']\n",
    "temp = df_test.copy()\n",
    "temp = temp.drop(columns_to_drop, axis=1)\n",
    "eda_quality(temp)"
   ]
  },
  {
   "cell_type": "markdown",
   "id": "6301e28f",
   "metadata": {},
   "source": [
    "Большая часть стартапов также раположена в Северной Америке, на втором месте - Европа. Много стартапов без указания страны.\n",
    "<br>Большая часть стартапов имеет жизненный цикл 3-5 лет, на втором месте 10-20лет и 5-7 лет. Меньше всего стартапов с длительностью жизни менее 1 года"
   ]
  },
  {
   "cell_type": "code",
   "execution_count": null,
   "id": "49adb556",
   "metadata": {},
   "outputs": [],
   "source": [
    "temp = df_test[['country_code', 'main_category']]\n",
    "#print(temp.columns)\n",
    "eda_top_categories(temp, 10)"
   ]
  },
  {
   "cell_type": "markdown",
   "id": "b8586778",
   "metadata": {},
   "source": [
    "Большая часть стартапов основана в США, на втором месте - Великоблитания. Большая доля стартапов в датасете, у которых не указана страна\n",
    "<br> Большая часть стартапов зарегистрирована в штате Калифорния, у чуть меньшего количества стартапов штат не указан. Основные категории деятельности стартапов: Biotechnlogy, Software, E-Commerce."
   ]
  },
  {
   "cell_type": "markdown",
   "id": "3f9004e0",
   "metadata": {},
   "source": [
    "Найдем распределение стартапов по годам и по статусу"
   ]
  },
  {
   "cell_type": "code",
   "execution_count": null,
   "id": "6d98c9bd",
   "metadata": {},
   "outputs": [],
   "source": [
    "status_by_year(df_train, 'founded_at_year', 'status')"
   ]
  },
  {
   "cell_type": "markdown",
   "id": "49c975b6",
   "metadata": {},
   "source": [
    "Как мы видим, после 2000 года идет всплеск открытия стартапов. Пик 2012 год, далее идет спад. Также после 2000 года незначительно вырастает количество закрытых стартапов "
   ]
  },
  {
   "cell_type": "markdown",
   "id": "39c76ab9",
   "metadata": {},
   "source": [
    "<b>Вывод</b>\n",
    "<br> В таблице df_train устранили аномалию в столбце funding_total_usd, где финансирование было 30 миллиардов, отсекли финансирования свыше 200 миллионов.\n",
    "<br>Анализ столбца funding_rounds показывает нам, что в основном был только один раунд финансирования, максимально - 19\n",
    "<br>Анализируя столбец lifetime, мы видим, что самый короткий срок жизни стартапа был 19 дней, медиана - 2557 дней(7 лет), среднее - 3141 дней\n",
    "<br>У целевого признака статус виден дисбаланс (91% - operating, 9% - closed).\n",
    "<br> Подавляющее большинство стартапов находятся в Северной Америке, затем в Европе, много стартапов с неуказанной геопозицией\n",
    "<br>В среднем стартапы существуют 2557 дней.\n",
    "<br>Больше половины стартапов имели 1 раунд финансирования (максимум было 19 раундов)\n",
    "<br>Больше всего категорий стартапов Biotechnlogy, Software, E-Commerce\n",
    "<br>После 2000 года идет всплеск открытия стартапов. Пик 2012 год, далее идет спад. Также после 2000 года незначительно вырастает количество закрытых стартапов "
   ]
  },
  {
   "cell_type": "markdown",
   "id": "5945729b",
   "metadata": {},
   "source": [
    "### Корреляционный анализ данных"
   ]
  },
  {
   "cell_type": "markdown",
   "id": "2121f296",
   "metadata": {},
   "source": [
    "Проведем корреляционный анализ данных с помощью библиотеки phik. Для анализа возьмем не все столбцы, удалим name (он явно будет коррелировать с другими, тк своего рода это уникальный идентификатор стартапа)\n",
    "<br>Разделим матрицу корреляции на две: в первую войдут те стартапы, что открыты, а во вторую те, что закрыты"
   ]
  },
  {
   "cell_type": "code",
   "execution_count": null,
   "id": "d924b8fc",
   "metadata": {},
   "outputs": [],
   "source": [
    "df_closed = df_train[df_train['status'] == 'closed']\n",
    "drop_columns = ['name', 'category_list', 'closed_at', 'status', 'lifetime_category']\n",
    "df_closed = df_closed.drop(drop_columns, axis = 1)\n",
    "#df_closed = df_closed.drop('lifetime_years', axis=1)\n",
    "corr_matrix(df_closed)"
   ]
  },
  {
   "cell_type": "code",
   "execution_count": null,
   "id": "e3bbc819",
   "metadata": {},
   "outputs": [],
   "source": [
    "df_open = df_train[df_train['status'] == 'operating']\n",
    "drop_columns = ['name', 'category_list', 'closed_at', 'status', 'lifetime_category']\n",
    "df_open = df_open.drop(drop_columns, axis = 1)\n",
    "\n",
    "corr_matrix(df_open)"
   ]
  },
  {
   "cell_type": "markdown",
   "id": "70f9d4ab",
   "metadata": {},
   "source": [
    "<b>Вывод</b>\n",
    "<br>Как мы видим, матрицы практически не имеют между собой разницы. Согласно шкале Чеддока, мы имеем много мультиколлинеарных столбцов. Для дальнейшего обучения модели оставим столбцы: 'funding_total_usd', 'funding_rounds', 'continent', 'main_category', 'lifetime_years', 'first_funding_at_year', 'funding_delta_years"
   ]
  },
  {
   "cell_type": "markdown",
   "id": "985e13a2",
   "metadata": {},
   "source": [
    "### Обучение модели и предсказание статуса стартапа"
   ]
  },
  {
   "cell_type": "markdown",
   "id": "4c55ed9c",
   "metadata": {},
   "source": [
    "Проведем подготовку данных для дальнейшего обучения"
   ]
  },
  {
   "cell_type": "code",
   "execution_count": null,
   "id": "81973e45",
   "metadata": {},
   "outputs": [],
   "source": [
    "df_train['continent'].nunique()"
   ]
  },
  {
   "cell_type": "code",
   "execution_count": null,
   "id": "dd543f9d",
   "metadata": {},
   "outputs": [],
   "source": [
    "columns = ['funding_total_usd', 'funding_rounds', 'continent', 'main_category', 'lifetime_years', 'first_funding_at_year', \\\n",
    "           'funding_delta_years']\n",
    "\n",
    "X = df_train[columns].copy()\n",
    "\n",
    "y = df_train['status'].copy()\n",
    "\n",
    "label_encoder = LabelEncoder()\n",
    "y = label_encoder.fit_transform(y)"
   ]
  },
  {
   "cell_type": "code",
   "execution_count": null,
   "id": "bdeb440e",
   "metadata": {},
   "outputs": [],
   "source": [
    "X_test = df_test[columns].copy()"
   ]
  },
  {
   "cell_type": "code",
   "execution_count": null,
   "id": "fc84b991",
   "metadata": {
    "scrolled": true
   },
   "outputs": [],
   "source": [
    "X.head()"
   ]
  },
  {
   "cell_type": "code",
   "execution_count": null,
   "id": "f6ff9dce",
   "metadata": {},
   "outputs": [],
   "source": [
    "X_train, X_valid, y_train, y_valid = train_test_split(X, y, test_size=TEST_SIZE, random_state=RANDOM_STATE)"
   ]
  },
  {
   "cell_type": "code",
   "execution_count": null,
   "id": "f50f8b5f",
   "metadata": {},
   "outputs": [],
   "source": [
    "ohe_col = ['main_category', 'continent']\n",
    "ord_col = ['funding_rounds']\n",
    "num_col = ['funding_total_usd', 'lifetime_years', 'first_funding_at_year', 'funding_delta_years']"
   ]
  },
  {
   "cell_type": "code",
   "execution_count": null,
   "id": "15979efc",
   "metadata": {},
   "outputs": [],
   "source": [
    "smote = SMOTE(random_state=RANDOM_STATE, k_neighbors=5)"
   ]
  },
  {
   "cell_type": "code",
   "execution_count": null,
   "id": "c0682ff2",
   "metadata": {},
   "outputs": [],
   "source": [
    "num_pipe = Pipeline(steps=[\n",
    "    ('impute', SimpleImputer(strategy='median')),\n",
    "    ('scale',StandardScaler())\n",
    "])\n",
    "ohe_pipe = Pipeline(steps=[\n",
    "    ('impute', SimpleImputer(missing_values=np.nan, strategy='most_frequent')),\n",
    "    ('one-hot',OneHotEncoder(drop='first', handle_unknown='infrequent_if_exist', min_frequency=500, sparse_output=False))\n",
    "])\n",
    "\n",
    "ord_pipe = Pipeline(\n",
    "    [('simpleImputer_before_ord', SimpleImputer(missing_values=np.nan, strategy='most_frequent')),\n",
    "     ('ord',  OrdinalEncoder(\n",
    "                categories=[\n",
    "                    ['1', '2', '3', '4',  '5', '6', '7', '8', '9','10', '11', '12', '13', '14', '15', '16', '17', '18', '19']\n",
    "                ], \n",
    "                handle_unknown='use_encoded_value', unknown_value=np.nan\n",
    "            )\n",
    "        ),\n",
    "     ('simpleImputer_after_ord', SimpleImputer(missing_values=np.nan, strategy='median'))\n",
    "    ]\n",
    ")"
   ]
  },
  {
   "cell_type": "code",
   "execution_count": null,
   "id": "5cbe0e33",
   "metadata": {},
   "outputs": [],
   "source": [
    "data_preprocessor = ColumnTransformer([\n",
    "    ('ohe', ohe_pipe, ohe_col),\n",
    "    ('num', num_pipe, num_col),\n",
    "    ('ord', ord_pipe, ord_col)\n",
    "], remainder='passthrough')"
   ]
  },
  {
   "cell_type": "code",
   "execution_count": null,
   "id": "aa85a082",
   "metadata": {},
   "outputs": [],
   "source": [
    " pipe_final = ImbPipeline([\n",
    "     ('preprocessor', data_preprocessor),\n",
    "     ('smote', smote),\n",
    "     ('models', DecisionTreeClassifier(random_state=RANDOM_STATE))\n",
    " ])\n",
    " \n",
    " param_distributions = [\n",
    "     {\n",
    "         'models': [RandomForestClassifier(random_state=RANDOM_STATE)],\n",
    "         'preprocessor__num': [StandardScaler(), MinMaxScaler(), 'passthrough'],\n",
    "         'models__class_weight': [None, 'balanced']\n",
    "     },\n",
    "\n",
    "     {\n",
    "         'models': [DecisionTreeClassifier(random_state=RANDOM_STATE)],\n",
    "         'models__max_depth': range(1, 30),\n",
    "         'models__max_features': range(1, 30),\n",
    "         'models__class_weight': [None, 'balanced'],\n",
    "         'preprocessor__num': [StandardScaler(), MinMaxScaler(), 'passthrough']  \n",
    "     },\n",
    "     {\n",
    "         'models': [KNeighborsClassifier()],\n",
    "         'models__n_neighbors': range(1, 30),\n",
    "         'preprocessor__num': [StandardScaler(), MinMaxScaler(), 'passthrough']   \n",
    "     },\n",
    "         # словарь для модели LogisticRegression()\n",
    "    {\n",
    "        #'models': [LogisticRegression(random_state=RANDOM_STATE)],\n",
    "        #'preprocessor__num': [StandardScaler(), MinMaxScaler(), 'passthrough']  \n",
    "        'models': [LogisticRegression(\n",
    "            random_state=RANDOM_STATE, \n",
    "            solver='liblinear', \n",
    "            penalty='l1'\n",
    "        )],\n",
    "        'models__C': range(1,5),\n",
    "        'models__class_weight': [None, 'balanced'],\n",
    "        'preprocessor__num': [StandardScaler(), MinMaxScaler(), 'passthrough']  \n",
    "    },\n",
    "     {\n",
    "         'models': [CatBoostClassifier(verbose=0, random_seed=RANDOM_STATE)],\n",
    "         'models__depth': range(4, 10),\n",
    "         'models__learning_rate': [0.01, 0.05, 0.1],\n",
    "         'models__iterations': [100, 500, 1000],\n",
    "         'preprocessor__num': ['passthrough'] \n",
    "     }\n",
    " ]\n",
    "\n",
    "randomized_search = RandomizedSearchCV(\n",
    "    pipe_final, \n",
    "    param_distributions,\n",
    "    cv=5,\n",
    "    n_iter=50,\n",
    "    scoring='f1',\n",
    "    n_jobs=-1,\n",
    "    random_state=RANDOM_STATE\n",
    ")"
   ]
  },
  {
   "cell_type": "code",
   "execution_count": null,
   "id": "ba94c41b",
   "metadata": {},
   "outputs": [],
   "source": [
    "randomized_search.fit(X_train, y_train)"
   ]
  },
  {
   "cell_type": "code",
   "execution_count": null,
   "id": "15e16b47",
   "metadata": {},
   "outputs": [],
   "source": [
    "print('Метрика для лучшей модели:\\n', randomized_search.best_score_)\n",
    "print('\\nЛучшая модель:\\n\\n', randomized_search.best_estimator_)\n",
    "print('\\nПараметры:\\n\\n', randomized_search.best_params_)"
   ]
  },
  {
   "cell_type": "markdown",
   "id": "37392afd",
   "metadata": {},
   "source": [
    "Параметры лучшей модели CatBoostClassifier('preprocessor__num': 'passthrough', 'models__learning_rate': 0.05, 'models__iterations': 100, 'models__depth': 7), теперь применим ее на тестовой выборке"
   ]
  },
  {
   "cell_type": "code",
   "execution_count": null,
   "id": "2e4c9f19",
   "metadata": {},
   "outputs": [],
   "source": [
    "df_test_final = df_test['name'].copy()\n",
    "prediction_final = randomized_search.best_estimator_.predict(X_test)\n",
    "y_test = pd.DataFrame(label_encoder.inverse_transform(prediction_final), columns = ['status'])\n",
    "df_test_final = pd.merge(df_test_final,y_test,how = 'left',left_index = True, right_index = True)\n",
    "\n",
    "\n",
    "print(df_test_final.sample(5))\n",
    "df_test_final.to_csv('startup_predict.csv', index=False)"
   ]
  },
  {
   "cell_type": "markdown",
   "id": "aef667ea",
   "metadata": {},
   "source": [
    "<b>Вывод по обучению модели</b>\n",
    "\n",
    "<br>Обучили методом RandomForestClassifier, DecisionTreeClassifier, KNeighborsClassifier, LogisticRegression, CatboostClassifier\n",
    "<br>параметры лучшей модели CatBoostClassifier('preprocessor__num': 'passthrough', 'models__learning_rate': 0.05, 'models__iterations': 100, 'models__depth': 7)\n",
    "<br>метрика лучшей модели на кроссвалидационной выборке - Best score: 0.98. При проверке на тестовой выборки метрика составила 0.85. Присутствует дисбаланс классов, пвталась его преодолеть с помощью imblearn и SMOTE"
   ]
  },
  {
   "cell_type": "markdown",
   "id": "aa341137",
   "metadata": {},
   "source": [
    "### Анализ важности признаков"
   ]
  },
  {
   "cell_type": "markdown",
   "id": "8248ec35",
   "metadata": {},
   "source": [
    "Построим диаграмму beeswarm"
   ]
  },
  {
   "cell_type": "code",
   "execution_count": null,
   "id": "89cb25fa",
   "metadata": {},
   "outputs": [],
   "source": [
    "model = randomized_search.best_estimator_.named_steps['models']\n",
    "preprocessor = randomized_search.best_estimator_.named_steps['preprocessor']\n",
    "\n",
    "X_train_transformed = preprocessor.transform(X_train)\n",
    "\n",
    "feature_names = get_feature_names(preprocessor, input_features=X_train.columns.tolist())\n",
    "\n",
    "explainer = shap.Explainer(model, X_train_transformed, feature_names=feature_names)\n",
    "\n",
    "shap_values = explainer(X_train_transformed)\n",
    "\n",
    "shap.plots.beeswarm(shap_values)"
   ]
  },
  {
   "cell_type": "markdown",
   "id": "52ca2a5e",
   "metadata": {},
   "source": [
    "Из диаграммы можно сделать следующие выводы о прогнозировании статуса:\n",
    "\n",
    "<br>- самыми значимыми признаками являются lifetime_years и first_funding_at_year. Чем их значение ниже, тем выше вероятность предсказание закрытия стартапа;\n",
    "<br>- признак funding_rounds стоит на третьем месте, а на последнем - main_category"
   ]
  },
  {
   "cell_type": "markdown",
   "id": "6ee02ff1",
   "metadata": {},
   "source": [
    "### Общий вывод и рекомендации"
   ]
  },
  {
   "cell_type": "markdown",
   "id": "2a69b833",
   "metadata": {},
   "source": [
    "<br><b>Этап загрузки данных: </b>\n",
    "\n",
    "<br>Первоначальный анализ данных показал нам, что:\n",
    "<br>- Таблица df_train имеет 52516 строк и 13 столбцов, а таблица df_test 13125 строк и 11 столбцов\n",
    "<br>- Выведенная на экран информация показывает нам, что в обеих таблицах присутствуют пропуски. Наименования столбцов оформлены верно, типы данных все верны, за исключением столбов с датами first_funding_at, last_funding_at, founded_at, closed_at таблицы df_train и столбцов first_funding_at, last_funding_at таблицы df_test\n",
    "<br>- Также мы можем заметить что в таблице df_test отсутствует столбец closed_all, а вместо него есть столбец lifetime\n",
    "\n",
    "<br><b>На этапе предобработки данных:</b>\n",
    "\n",
    "<br> Выполнен поиск явных дубликатов, 10 обнаружилось в тренировочном - их удалили, 1 в тестовом оставили без изменений. \n",
    "<br> Посчитали количество уникальных значений категориальных переменных, сделали вывод, что проверить такое огромное количество записей на наличие неявных дубликатов невозножно. Добавили столбец main_category укрупнения категорий стартапов для дальнейшей исследовательской работы и предсказания\n",
    "<br>Для тренировочного и тестового датасетов добавила принадлежность к континенту, добавила столбец lifetime_years для более удобной работы с жизнью стартапов\n",
    "<br> Была проведена проверка дат основания и первого раунда финансирования, в которой нашли 2934 строки с перепутанными датами. Оставили данные без изменений\n",
    "<br> Добавили новые признаки - год проведения первого раунда финансирования, разница в годах между первым и последним раундом финансирования\n",
    "\n",
    "<br><b>Исследоваельский анализ данных</b>\n",
    "\n",
    "<br> В таблице df_train устранили аномалию в столбце funding_total_usd, где финансирование было 30 миллиардов, отсекли финансирования свыше 200 миллионов.\n",
    "<br>Анализ столбца funding_rounds показывает нам, что в основном был только один раунд финансирования, максимально - 19\n",
    "<br>Анализируя столбец lifetime, мы видим, что самый короткий срок жизни стартапа был 19 дней, медиана - 2557 дней(7 лет), среднее - 3141 дней\n",
    "<br>У целевого признака статус виден дисбаланс (91% - operating, 9% - closed).\n",
    "<br> Подавляющее большинство стартапов находятся в Северной Америке, затем в Европе, много стартапов с неуказанной геопозицией\n",
    "<br>В среднем стартапы существуют 2557 дней.\n",
    "<br>Больше половины стартапов имели 1 раунд финансирования (максимум было 19 раундов)\n",
    "<br>Больше всего категорий стартапов Biotechnlogy, Software, E-Commerce\n",
    "<br>После 2000 года идет всплеск открытия стартапов. Пик 2012 год, далее идет спад. Также после 2000 года незначительно вырастает количество закрытых стартапов \n",
    "\n",
    "<br><b>Корреляционный анализ данных</b>\n",
    "<br>Согласно шкале Чеддока, мы имеем много мультиколлинеарных столбцов. Для дальнейшего обучения модели оставим столбцы: 'funding_total_usd', 'funding_rounds', 'continent', 'main_category', 'lifetime_years', 'first_funding_at_year', 'funding_delta_years\n",
    "\n",
    "<br><b>Обучение модели и предсказание статуса стартапа</b>\n",
    "\n",
    "<br>Выполнена подготовка данных для применениях в моделях машинного обучения с помощью пайплайнов. Проведена замена целевого признака с помощью LabelEncoder.\n",
    "\n",
    "<br><br>Обучили методом RandomForestClassifier, DecisionTreeClassifier, KNeighborsClassifier, LogisticRegression, CatboostClassifier\n",
    "<br>параметры лучшей модели CatBoostClassifier('preprocessor__num': 'passthrough', 'models__learning_rate': 0.05, 'models__iterations': 100, 'models__depth': 7)\n",
    "<br>метрика лучшей модели на кроссвалидационной выборке - Best score: 0.98. При проверке на тестовой выборки метрика составила 0.85. Присутствует дисбаланс классов, пвталась его преодолеть с помощью imblearn и SMOTE\n",
    "\n",
    "<br><b>Анализ важности признаков</b>\n",
    "\n",
    "<br>- самыми значимыми признаками являются lifetime_years и first_funding_at_year. Чем их значение ниже, тем выше вероятность предсказание закрытия стартапа;\n",
    "<br>- признак funding_rounds стоит на третьем месте, а на последнем - main_category\n",
    "\n",
    "<br><b>Рекомедации</b>\n",
    "<br> Большая часть успешно работающих стартапов расположены в США, самые популярные категории деятельности стартапов: Biotechnlogy, Software, E-Commerc. Учитывая что большая часть стартапов имеет статус открытых, можно сделать вывод, что эти категории имеют наибольший шанс на успех. При этом мы можем заметить, что факторами более \"долгой жизни\" стартапа не являются, как ни странно, количество раундов финансирования и сумма финансирования. Большая часть стартапов живет не более 3-5 лет, следовательно, можем сделать вывод, что на данном этапе возникает определенный кризис, который необхдимо преодолеть. Те стартапы, которые преодолели этот этап, живут 10 лет и более"
   ]
  }
 ],
 "metadata": {
  "kernelspec": {
   "display_name": "Python 3 (ipykernel)",
   "language": "python",
   "name": "python3"
  },
  "language_info": {
   "codemirror_mode": {
    "name": "ipython",
    "version": 3
   },
   "file_extension": ".py",
   "mimetype": "text/x-python",
   "name": "python",
   "nbconvert_exporter": "python",
   "pygments_lexer": "ipython3",
   "version": "3.9.19"
  },
  "toc": {
   "base_numbering": 1,
   "nav_menu": {},
   "number_sections": true,
   "sideBar": true,
   "skip_h1_title": false,
   "title_cell": "Table of Contents",
   "title_sidebar": "Contents",
   "toc_cell": false,
   "toc_position": {},
   "toc_section_display": true,
   "toc_window_display": false
  }
 },
 "nbformat": 4,
 "nbformat_minor": 5
}
